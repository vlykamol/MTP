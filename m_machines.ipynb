{
  "nbformat": 4,
  "nbformat_minor": 0,
  "metadata": {
    "colab": {
      "provenance": [],
      "authorship_tag": "ABX9TyMgvQsb54++WmlrflTYnP+6",
      "include_colab_link": true
    },
    "kernelspec": {
      "name": "python3",
      "display_name": "Python 3"
    },
    "language_info": {
      "name": "python"
    }
  },
  "cells": [
    {
      "cell_type": "markdown",
      "metadata": {
        "id": "view-in-github",
        "colab_type": "text"
      },
      "source": [
        "<a href=\"https://colab.research.google.com/github/vlykamol/MTP/blob/main/m_machines.ipynb\" target=\"_parent\"><img src=\"https://colab.research.google.com/assets/colab-badge.svg\" alt=\"Open In Colab\"/></a>"
      ]
    },
    {
      "cell_type": "code",
      "execution_count": 2,
      "metadata": {
        "id": "cnYZDM5B8JS0"
      },
      "outputs": [],
      "source": [
        "import math\n",
        "import numpy as np\n",
        "PI = math.pi\n",
        "from scipy.integrate import quad\n",
        "from scipy.linalg import expm\n",
        "import random"
      ]
    },
    {
      "cell_type": "code",
      "source": [
        "def AI(Kd, J, Kt, Fd, GrI, Ke, L, R, Ts):\n",
        "  return np.array([[-Kd/J, Kt/J, -(Fd * GrI)/J], [-Ke/L, -R/L, 0], [(Ts * GrI)/(2 * math.pi), 0, 0]])\n",
        "\n",
        "def BI(GrI, J, L):\n",
        "  return np.array([[0, -GrI/J], [1/L, 0], [0, 0]])\n",
        "\n",
        "def SI(AI, h):\n",
        "  try:\n",
        "    AI_inv = np.linalg.inv(AI) # calulate inverse of AI\n",
        "    exp_AI_h = expm(AI * h) # exponential of AI * h\n",
        "    I = np.eye(len(AI)) # Identity matrix of size AI\n",
        "    Si = N @ AI_inv @ (exp_AI_h - I)\n",
        "    return Si\n",
        "  except np.linalg.LinAlgError:\n",
        "    print(\"Error: The matrix Ai is singular and cannot be inverted.\")\n",
        "    return None\n",
        "\n",
        "N = np.array([[0, 1, 0], [0, 0, 0]])\n",
        "\n",
        "def RI(AI, BI, h):\n",
        "  try:\n",
        "    AI_inv = np.linalg.inv(AI) # calulate inverse of AI\n",
        "    exp_AI_h = expm(AI * h) # exponential of AI * h\n",
        "    I = np.eye(len(AI)) # Identity matrix of size AI\n",
        "\n",
        "    mTerm = (AI_inv @ exp_AI_h) - AI_inv - I * h\n",
        "\n",
        "    RI = N @ AI_inv @ mTerm @ BI\n",
        "    return RI\n",
        "  except np.linalg.LinAlgError:\n",
        "    print(\"Error: The matrix Ai is singular and cannot be inverted.\")\n",
        "    return None\n",
        "\n",
        "def Ei(x, u, SI, RI):\n",
        "  fTerm = np.transpose(u) @ SI @ x\n",
        "  sTerm = np.transpose(u) @ RI @ u\n",
        "  return fTerm + sTerm"
      ],
      "metadata": {
        "id": "bmurAQyX8N0x"
      },
      "execution_count": 3,
      "outputs": []
    },
    {
      "cell_type": "code",
      "source": [
        "def Fi(Ai, Bi, x, u, h):\n",
        "  def integrand(s): # Modified integrand to take index i\n",
        "    return expm(Ai * s) @ Bi\n",
        "\n",
        "  Phi_i = expm(Ai * h)\n",
        "  # Calculate Gamma_i for each element of Bi\n",
        "  Gamma_i = np.zeros_like(Bi)\n",
        "  for i in range(Bi.shape[0]):\n",
        "    for j in range(Bi.shape[1]):\n",
        "      Gamma_i[i, j], _ = quad(lambda s: integrand(s)[i, j], 0, h)\n",
        "\n",
        "  # print(\"phi_i\", Phi_i)\n",
        "  # print(\"Phi_i @ x\", Phi_i @ x)\n",
        "  # print(\"Gamma_i\", Gamma_i)\n",
        "  # print(\"Gamma_i @ u\", Gamma_i @ u)\n",
        "  return Phi_i @ x + Gamma_i @ u"
      ],
      "metadata": {
        "id": "Uqlr_f9rb8M1"
      },
      "execution_count": 4,
      "outputs": []
    },
    {
      "cell_type": "code",
      "source": [
        "h = 0.2 # time step\n",
        "tD = 1 # target depth\n",
        "Va = 10 # input voltage"
      ],
      "metadata": {
        "id": "fjfSJWwY8QVX"
      },
      "execution_count": null,
      "outputs": []
    },
    {
      "cell_type": "code",
      "source": [
        "J = 0.1\n",
        "Kd = 0.25\n",
        "Ke = 1\n",
        "Kt = 1\n",
        "Ts = 1\n",
        "L = 2.5 * 10e-4\n",
        "R = 1\n",
        "Fd = 0.1\n",
        "Fs = 0.2\n",
        "Va = 20\n",
        "G = [1, 2]"
      ],
      "metadata": {
        "id": "4SES-Ygi8d2Y"
      },
      "execution_count": null,
      "outputs": []
    },
    {
      "cell_type": "code",
      "source": [
        "# process constants\n",
        "A = [AI(Fd=Fd, GrI=x, J=J, Kd=Kd, Ke=Ke, Kt=Kt, L=L, R=R, Ts=Ts) for x in G]\n",
        "B = [BI(GrI=x, J=J, L=L) for x in G]"
      ],
      "metadata": {
        "id": "vR3zuyhmAlny"
      },
      "execution_count": null,
      "outputs": []
    },
    {
      "cell_type": "code",
      "source": [
        "A, B"
      ],
      "metadata": {
        "id": "AZw72WjbRGFU"
      },
      "execution_count": null,
      "outputs": []
    },
    {
      "cell_type": "code",
      "source": [
        "x = np.array([0, 0, 0]) # initial state\n",
        "u = np.array([Va, Fs]) # initial control input"
      ],
      "metadata": {
        "id": "JrcWRMyXRMEn"
      },
      "execution_count": null,
      "outputs": []
    },
    {
      "cell_type": "code",
      "source": [
        "x_k1 = Fi(Ai = A[0], Bi=B[0], x=x, u=u, h=h)\n",
        "print(x_k1, np.shape(x_k1))"
      ],
      "metadata": {
        "id": "3brKbqTcjel3"
      },
      "execution_count": null,
      "outputs": []
    },
    {
      "cell_type": "code",
      "source": [
        "x_k1 = [x_k1[0], x_k1[1], 0.25]\n",
        "x_k2 = Fi(Ai = A[1], Bi=B[1], x=x_k1, u=u, h=h)\n",
        "print(x_k2, np.shape(x_k2))"
      ],
      "metadata": {
        "id": "48x822rex9Pn"
      },
      "execution_count": null,
      "outputs": []
    },
    {
      "cell_type": "code",
      "source": [
        "x_k1 = Fi(Ai = A[1], Bi=B[1], x=x, u=u, h=h) # time step = 1 m = 1, n = 3(mode = 2)\n",
        "print(x_k1, np.shape(x_k1))\n",
        "x_k1 = [x_k1[0], x_k1[1], 0.35]\n",
        "\n",
        "x_k2 = Fi(Ai = A[0], Bi=B[0], x=x_k1, u=u, h=h) # time step = 2 m = 1, n = 2(mode = 1)\n",
        "print(x_k2, np.shape(x_k2))\n",
        "temp = math.floor(x_k2[2] * 1000/250)\n",
        "temp = temp * 250 / 1000\n",
        "x_k2 = [x_k2[0], x_k2[1], temp]\n",
        "print(x_k2)\n",
        "\n",
        "x_k3 = Fi(Ai = A[1], Bi=B[1], x=x_k2, u=u, h=h) # time step = 3 m = 1, n = 2(mode = 1)\n",
        "print(x_k3, np.shape(x_k3))\n",
        "temp = math.floor(x_k3[2] * 1000/350)\n",
        "print(temp)\n",
        "temp = temp * 350 / 1000\n",
        "print(temp)"
      ],
      "metadata": {
        "id": "mXRp_OQP0v23"
      },
      "execution_count": null,
      "outputs": []
    },
    {
      "cell_type": "code",
      "source": [
        "x_k2 = Fi(Ai = A[1], Bi=B[1], x=x_k1, u=u, h=h)\n",
        "print(x_k2, np.shape(x_k2))"
      ],
      "metadata": {
        "id": "w1G18o6apU0A"
      },
      "execution_count": null,
      "outputs": []
    },
    {
      "cell_type": "code",
      "source": [
        "x_k1 = Fi(Ai = A[1], Bi=B[1], x=x, u=u, h=h)\n",
        "print(x_k1, np.shape(x_k1))\n",
        "x_k2 = Fi(Ai = A[1], Bi=B[1], x=x_k1, u=u, h=h)\n",
        "print(x_k2, np.shape(x_k2))"
      ],
      "metadata": {
        "id": "dvjHi9e0qt5K"
      },
      "execution_count": null,
      "outputs": []
    },
    {
      "cell_type": "markdown",
      "source": [
        "# one machine scheduling\n"
      ],
      "metadata": {
        "id": "zY4nA0BhyrLA"
      }
    },
    {
      "cell_type": "code",
      "source": [
        "# prompt: create a node structure which holds information like one list, one state (in list formate) and one cost\n",
        "\n",
        "class Node:\n",
        "  def __init__(self, state, path, cost):\n",
        "    self.state = state  # List representing the state\n",
        "    self.path = path    # List of actions taken to reach this state\n",
        "    self.cost = cost    # Cost to reach this state\n",
        "\n",
        "  def print_node(self):\n",
        "    print(\"State:\", self.state)\n",
        "    print(\"Path:\", self.path)\n",
        "    print(\"Cost:\", self.cost)"
      ],
      "metadata": {
        "id": "oHmfSkTDcRNi"
      },
      "execution_count": null,
      "outputs": []
    },
    {
      "cell_type": "code",
      "source": [
        "# machine m ranges from (0,1,2..n-1) having gear ratios\n",
        "def applyMachine(m, node):\n",
        "  x = node.state\n",
        "  I = node.path\n",
        "  e = node.cost\n",
        "\n",
        "  #state update\n",
        "  Ai = A[m]\n",
        "  Bi = B[m]\n",
        "\n",
        "  x_1 = Fi(Ai, Bi, x, u, h)\n",
        "\n",
        "  #path update\n",
        "  I.append(m)\n",
        "\n",
        "  #cost update\n",
        "  Si = SI(Ai, h)\n",
        "  Ri = RI(Ai, Bi, h)\n",
        "  ei = Ei(x, u, Si, Ri)\n",
        "  e += ei\n",
        "\n",
        "  print(x_1)\n",
        "  print(I)\n",
        "  print(e)\n",
        "  return Node(x_1, I, e)"
      ],
      "metadata": {
        "id": "8yj_Y0AicObi"
      },
      "execution_count": null,
      "outputs": []
    },
    {
      "cell_type": "code",
      "source": [
        "m = 3 # no. of machines\n",
        "n = 2 # no. of modes"
      ],
      "metadata": {
        "id": "Sp7sNgy8atVw"
      },
      "execution_count": null,
      "outputs": []
    },
    {
      "cell_type": "code",
      "source": [
        "sol = []\n",
        "pSol = [applyMachine(i, Node(x, [], 0)) for i in range(0, len(G))]"
      ],
      "metadata": {
        "id": "c6HlvCMCcbsf"
      },
      "execution_count": null,
      "outputs": []
    },
    {
      "cell_type": "code",
      "source": [
        "D_k = [] # gradient depth factors"
      ],
      "metadata": {
        "id": "DgECRB_vARlP"
      },
      "execution_count": null,
      "outputs": []
    },
    {
      "cell_type": "code",
      "source": [
        "class sol_list:\n",
        "  def __init__(self, m):\n",
        "    self.sol = {\n",
        "\n",
        "    }"
      ],
      "metadata": {
        "id": "5jG5_NAtQIpq"
      },
      "execution_count": null,
      "outputs": []
    },
    {
      "cell_type": "code",
      "source": [
        "while pSol: # while loop\n",
        "  _pSol = []  # empty list\n",
        "  for i in pSol: # for all partial solution\n",
        "    _pSol += [applyMachine(j, i) for j in range(0, len(G))] # apply all machine for one time step\n",
        "\n",
        "  # remove partial solution that are dominated by those already in sol\n",
        "  for i in _pSol:\n",
        "    for j in sol:\n",
        "      if i.cost >= j.cost:\n",
        "        _pSol.remove(i)\n",
        "        break\n",
        "\n",
        "  # move complete solution to sol\n",
        "  pSol = []\n",
        "  print(\"len of _psol\", len(_pSol), \"len of pSol\", len(pSol))\n",
        "  for i in _pSol:\n",
        "    x = i.state\n",
        "    if x[2] >= tD:\n",
        "      sol.append(i)\n",
        "    else:\n",
        "      pSol.append(i) # Replace pSol with remaining from _pSol"
      ],
      "metadata": {
        "id": "zLKsmSEMd0Gs"
      },
      "execution_count": null,
      "outputs": []
    },
    {
      "cell_type": "markdown",
      "source": [
        "#New implementation"
      ],
      "metadata": {
        "id": "1of283GkebP6"
      }
    },
    {
      "cell_type": "code",
      "source": [
        "class SL:\n",
        "    def __init__(self, mode, power):\n",
        "        self.mode = mode  # Mode associated with the service level\n",
        "        self.power = power  # Power associated with the mode\n",
        "\n",
        "    def __repr__(self):\n",
        "        \"\"\"Representation of a service level.\"\"\"\n",
        "        return f\"(M: {self.mode}, P: {self.power})\""
      ],
      "metadata": {
        "id": "a7vtykc-DOaZ"
      },
      "execution_count": 5,
      "outputs": []
    },
    {
      "cell_type": "code",
      "source": [
        "class Machine:\n",
        "    def __init__(self, name):\n",
        "        self.name = name  # (name or ID)\n",
        "        self.service_levels = []  # service levels (SLs)\n",
        "\n",
        "    def add_sl(self, mode, power):\n",
        "        \"\"\"Add a ServiceLevel to the machine.\"\"\"\n",
        "        sl = SL(mode, power)\n",
        "        self.service_levels.append(sl)\n",
        "\n",
        "    def get_sl(self):\n",
        "        \"\"\"Return all the service levels.\"\"\"\n",
        "        return self.service_levels\n",
        "\n",
        "    def __repr__(self):\n",
        "        \"\"\"Representation of the machine.\"\"\"\n",
        "        return f\"M(ID: {self.name}, SLs: {self.service_levels})\""
      ],
      "metadata": {
        "id": "jjwhQNIXEZom"
      },
      "execution_count": 6,
      "outputs": []
    },
    {
      "cell_type": "code",
      "source": [
        "class Node:\n",
        "    def __init__(self, power, mode, work_done):\n",
        "        self.power = power  # Total power\n",
        "        self.work_done = work_done  # Work done\n",
        "        self.modes = []  # List to store tuples of (mode, power)\n",
        "        self.next = None  # Pointer to the next node\n",
        "\n",
        "    def add_sl(self, mode, power):\n",
        "        \"\"\"Add a tuple of (mode, power) to the list.\"\"\"\n",
        "        sl = SL(mode, power)\n",
        "        self.modes.append(sl)\n",
        "\n",
        "    def get_modes(self):\n",
        "        \"\"\"Return all the modes and associated powers.\"\"\"\n",
        "        return self.modes\n",
        "\n",
        "    def __repr__(self):\n",
        "        \"\"\"Represent the node details.\"\"\"\n",
        "        return f\"Node(p: {self.power}, w: {self.work_done}, Modes: {self.modes})\"\n"
      ],
      "metadata": {
        "id": "ZFR71GLgjxrN"
      },
      "execution_count": 7,
      "outputs": []
    },
    {
      "cell_type": "code",
      "source": [
        "class LinkedList:\n",
        "    def __init__(self):\n",
        "        self.head = None  # Head of the list (initially empty)\n",
        "        self.tail = None\n",
        "        self.len = 0;\n",
        "\n",
        "    # Method to add a new node at the end\n",
        "    def append(self, Node):\n",
        "        self.len += 1\n",
        "        # If the list is empty, make the new node the head\n",
        "        if self.head is None:\n",
        "            self.head = Node\n",
        "            self.tail = Node\n",
        "            return\n",
        "        else:\n",
        "            self.tail.next = Node\n",
        "            self.tail = Node\n",
        "\n",
        "    # Method to get size of linked list\n",
        "    def __len__(self):\n",
        "        return self.len\n",
        "\n",
        "    def copy(self):\n",
        "        new_list = LinkedList()\n",
        "        curr = self.head\n",
        "        while curr:\n",
        "            new_node = Node(power=curr.power, mode=None, work_done=curr.work_done)\n",
        "            new_node.modes = curr.modes.copy()\n",
        "            new_list.append(new_node)\n",
        "            curr = curr.next\n",
        "        return new_list\n",
        "\n",
        "    # Method to print the list\n",
        "    def __repr__(self):\n",
        "        curr = self.head\n",
        "        nodes = [] # create a list to hold the string representation of the nodes\n",
        "        while curr:\n",
        "            nodes.append(str(curr)) # add string representation of node to list\n",
        "            curr = curr.next\n",
        "        return \" -> \".join(nodes) + \" -> None\" # return the formatted string\n"
      ],
      "metadata": {
        "id": "PW9BKPWpfxVo"
      },
      "execution_count": 22,
      "outputs": []
    },
    {
      "cell_type": "code",
      "source": [
        "def create_machine(id, gMin, gRange, num_gears):\n",
        "    \"\"\"\n",
        "      args:\n",
        "        id: machine id,\n",
        "        gMin: min value of gear ratio,\n",
        "        gRange: range of gear ratio,\n",
        "        num_gears: number of gears\n",
        "    \"\"\"\n",
        "    machine = Machine(name=f\"{id}\")\n",
        "    previous_power = 0\n",
        "    gears = [gMin + x * gRange for x in range(num_gears)]\n",
        "    for j in gears:\n",
        "        power = random.randint(max(30, previous_power + 1), previous_power + 30)\n",
        "        machine.add_sl(j, power)\n",
        "        previous_power = power\n",
        "    return machine"
      ],
      "metadata": {
        "id": "43NAvPJcOvcw"
      },
      "execution_count": 56,
      "outputs": []
    },
    {
      "cell_type": "code",
      "source": [
        "# Script to create 3 machines and print their details\n",
        "machines = [create_machine(x, 1, 3, 3) for x in range(1, 4)]\n",
        "\n",
        "# Print details of each machine\n",
        "for machine in machines:\n",
        "    print(machine)"
      ],
      "metadata": {
        "colab": {
          "base_uri": "https://localhost:8080/"
        },
        "id": "3I3ycZ5jLhdK",
        "outputId": "f0bbd384-0b9d-48ce-d99e-ee85262aa25f"
      },
      "execution_count": 81,
      "outputs": [
        {
          "output_type": "stream",
          "name": "stdout",
          "text": [
            "M(ID: 1, SLs: [(M: 1, P: 30), (M: 4, P: 55), (M: 7, P: 59)])\n",
            "M(ID: 2, SLs: [(M: 1, P: 30), (M: 4, P: 51), (M: 7, P: 56)])\n",
            "M(ID: 3, SLs: [(M: 1, P: 30), (M: 4, P: 51), (M: 7, P: 56)])\n"
          ]
        }
      ]
    },
    {
      "cell_type": "code",
      "source": [
        "T = 1; # total time\n",
        "P = 150; # total power at time t\n",
        "h = 0.2 # time step\n",
        "tD = 1 # target depth\n",
        "Va = 10 # input voltage"
      ],
      "metadata": {
        "id": "TfbFxB79Lh4V"
      },
      "execution_count": 79,
      "outputs": []
    },
    {
      "cell_type": "code",
      "source": [
        "J = 0.1\n",
        "Kd = 0.25\n",
        "Ke = 1\n",
        "Kt = 1\n",
        "Ts = 1\n",
        "L = 2.5 * 10e-4\n",
        "R = 1\n",
        "Fd = 0.1\n",
        "Fs = 0.2"
      ],
      "metadata": {
        "id": "ZSldr6DJfeKt"
      },
      "execution_count": 13,
      "outputs": []
    },
    {
      "cell_type": "code",
      "source": [
        "# machine m ranges from (0,1,2..n-1) having gear ratios\n",
        "def applyMode(m, state, input):\n",
        "  #state update\n",
        "  Ai = AI(Fd=Fd, GrI=m, J=J, Kd=Kd, Ke=Ke, Kt=Kt, L=L, R=R, Ts=Ts)\n",
        "  Bi = BI(GrI=m, J=J, L=L)\n",
        "  x_1 = Fi(Ai, Bi, state, input, h)\n",
        "  return x_1"
      ],
      "metadata": {
        "id": "thOdJd1OCC_3"
      },
      "execution_count": 15,
      "outputs": []
    },
    {
      "cell_type": "code",
      "source": [
        "def getMid(llist):\n",
        "        if llist.head is None:\n",
        "          return None\n",
        "        slow = llist.head\n",
        "        fast = llist.head\n",
        "        while fast and fast.next:\n",
        "            slow = slow.next\n",
        "            fast = fast.next.next\n",
        "        return slow\n",
        "\n",
        "def merge(left, right):\n",
        "  result = LinkedList()\n",
        "  left_node = left.head\n",
        "  right_node = right.head\n",
        "\n",
        "  while left_node and right_node:\n",
        "      if left_node.work_done <= right_node.work_done:\n",
        "          result.append(left_node)\n",
        "          left_node = left_node.next\n",
        "      else:\n",
        "          result.append(right_node)\n",
        "          right_node = right_node.next\n",
        "\n",
        "  # Append remaining nodes, if any\n",
        "  while left_node:\n",
        "      result.append(left_node)\n",
        "      left_node = left_node.next\n",
        "  while right_node:\n",
        "      result.append(right_node)\n",
        "      right_node = right_node.next\n",
        "\n",
        "  return result\n",
        "\n",
        "def sort(llist):\n",
        "    if llist.head is None or llist.head.next is None:\n",
        "        return llist\n",
        "\n",
        "    # Get the middle of the list and split it\n",
        "    mid = getMid(llist)\n",
        "\n",
        "    # Split the linked list into two halves\n",
        "    left_half = LinkedList()\n",
        "    left_half.head = llist.head\n",
        "    current = left_half.head\n",
        "    while current.next != mid:\n",
        "        current = current.next\n",
        "    current.next = None  # Break the first half\n",
        "\n",
        "    right_half = LinkedList()\n",
        "    right_half.head = mid\n",
        "\n",
        "    # Recursively sort the two halves\n",
        "    left_sorted = sort(left_half)\n",
        "    right_sorted = sort(right_half)\n",
        "\n",
        "    # Merge the two sorted halves\n",
        "    return merge(left_sorted, right_sorted)"
      ],
      "metadata": {
        "id": "CqV-MLfkWDog"
      },
      "execution_count": 28,
      "outputs": []
    },
    {
      "cell_type": "code",
      "source": [
        "def pruneNodes(llist):\n",
        "  head = llist.head\n",
        "  if not head:\n",
        "        return None\n",
        "  llist = sort(llist)\n",
        "  return llist"
      ],
      "metadata": {
        "id": "4Zc31Stfil5L"
      },
      "execution_count": 54,
      "outputs": []
    },
    {
      "cell_type": "code",
      "source": [
        "x = [0, 0, 0]\n",
        "u = [Va, Fs]\n",
        "states = [x for j in range(0, len(machines))]\n",
        "inputs = [u for j in range(0, len(machines))]\n",
        "\n",
        "for t in range(0, int(T / h) + 1):\n",
        "  current_time = t * h\n",
        "  print(\"time : \", current_time)\n",
        "\n",
        "  lam = Node(power=0, mode=None, work_done=0)\n",
        "  psi = LinkedList()\n",
        "  psi.append(lam)\n",
        "\n",
        "  for i, m in enumerate(machines):\n",
        "      print(\"machine : \", m.name)\n",
        "      psi_prev = psi.copy()\n",
        "      g = len(psi_prev)\n",
        "      lls = []\n",
        "      state = states[i]\n",
        "      input = inputs[i]\n",
        "      for k in m.service_levels:\n",
        "        phi_k = LinkedList()\n",
        "        curr = psi_prev.head\n",
        "        while curr:\n",
        "          p = curr.power + k.power\n",
        "          if p > P :\n",
        "            curr = curr.next\n",
        "            continue\n",
        "          _state = applyMode(k.mode, state, input)\n",
        "          modes = curr.get_modes().copy()\n",
        "          wd = curr.work_done + _state[2]\n",
        "          # create a new node\n",
        "          lam = Node(power=p, mode=0, work_done=wd)\n",
        "          lam.modes = modes\n",
        "          lam.add_sl(k.mode, k.power)\n",
        "          phi_k.append(lam) # append to kth linkedlist\n",
        "          curr = curr.next\n",
        "\n",
        "        lls.append(phi_k) # add kth linkedlist to merge\n",
        "\n",
        "      _psi = LinkedList()\n",
        "      for p in lls:\n",
        "        curr = p.head\n",
        "        while curr:\n",
        "          _psi.append(curr)\n",
        "          curr = curr.next\n",
        "\n",
        "      # pruning nodes\n",
        "      psi = _psi\n",
        "      _psi = pruneNodes(_psi)\n",
        "      print(\"psi :: \", _psi)\n",
        "      tNode = _psi.tail\n",
        "  # updating final state\n",
        "  for i, mode in enumerate(tNode.modes):\n",
        "      states[i] = applyMode(mode.mode, states[i], inputs[i])\n",
        "  print(\"states :: \", states)\n",
        "  print(\"end of one time step\")\n"
      ],
      "metadata": {
        "colab": {
          "base_uri": "https://localhost:8080/"
        },
        "id": "exZYYscQYmwt",
        "outputId": "1bc87599-37d0-4501-d682-4f9577576c8b"
      },
      "execution_count": 85,
      "outputs": [
        {
          "output_type": "stream",
          "name": "stdout",
          "text": [
            "time :  0.0\n",
            "machine :  1\n",
            "psi ::  Node(p: 30, w: 0.15670743458895728, Modes: [(M: 1, P: 30)]) -> Node(p: 55, w: 0.5839428159767044, Modes: [(M: 4, P: 55)]) -> Node(p: 59, w: 0.9404543955942447, Modes: [(M: 7, P: 59)]) -> None\n",
            "machine :  2\n",
            "psi ::  Node(p: 60, w: 0.31341486917791456, Modes: [(M: 1, P: 30), (M: 1, P: 30)]) -> Node(p: 85, w: 0.7406502505656617, Modes: [(M: 4, P: 55), (M: 1, P: 30)]) -> Node(p: 81, w: 0.7406502505656617, Modes: [(M: 1, P: 30), (M: 4, P: 51)]) -> Node(p: 89, w: 1.097161830183202, Modes: [(M: 7, P: 59), (M: 1, P: 30)]) -> Node(p: 86, w: 1.097161830183202, Modes: [(M: 1, P: 30), (M: 7, P: 56)]) -> Node(p: 106, w: 1.1678856319534088, Modes: [(M: 4, P: 55), (M: 4, P: 51)]) -> Node(p: 110, w: 1.5243972115709492, Modes: [(M: 7, P: 59), (M: 4, P: 51)]) -> Node(p: 111, w: 1.5243972115709492, Modes: [(M: 4, P: 55), (M: 7, P: 56)]) -> Node(p: 115, w: 1.8809087911884894, Modes: [(M: 7, P: 59), (M: 7, P: 56)]) -> None\n",
            "machine :  3\n",
            "psi ::  Node(p: 90, w: 0.4701223037668718, Modes: [(M: 1, P: 30), (M: 1, P: 30), (M: 1, P: 30)]) -> Node(p: 115, w: 0.897357685154619, Modes: [(M: 4, P: 55), (M: 1, P: 30), (M: 1, P: 30)]) -> Node(p: 111, w: 0.897357685154619, Modes: [(M: 1, P: 30), (M: 4, P: 51), (M: 1, P: 30)]) -> Node(p: 111, w: 0.897357685154619, Modes: [(M: 1, P: 30), (M: 1, P: 30), (M: 4, P: 51)]) -> Node(p: 119, w: 1.2538692647721592, Modes: [(M: 7, P: 59), (M: 1, P: 30), (M: 1, P: 30)]) -> Node(p: 116, w: 1.2538692647721592, Modes: [(M: 1, P: 30), (M: 7, P: 56), (M: 1, P: 30)]) -> Node(p: 116, w: 1.2538692647721592, Modes: [(M: 1, P: 30), (M: 1, P: 30), (M: 7, P: 56)]) -> Node(p: 136, w: 1.324593066542366, Modes: [(M: 4, P: 55), (M: 4, P: 51), (M: 1, P: 30)]) -> Node(p: 136, w: 1.324593066542366, Modes: [(M: 4, P: 55), (M: 1, P: 30), (M: 4, P: 51)]) -> Node(p: 132, w: 1.324593066542366, Modes: [(M: 1, P: 30), (M: 4, P: 51), (M: 4, P: 51)]) -> Node(p: 140, w: 1.6811046461599064, Modes: [(M: 7, P: 59), (M: 4, P: 51), (M: 1, P: 30)]) -> Node(p: 141, w: 1.6811046461599064, Modes: [(M: 4, P: 55), (M: 7, P: 56), (M: 1, P: 30)]) -> Node(p: 140, w: 1.6811046461599064, Modes: [(M: 7, P: 59), (M: 1, P: 30), (M: 4, P: 51)]) -> Node(p: 137, w: 1.6811046461599064, Modes: [(M: 1, P: 30), (M: 7, P: 56), (M: 4, P: 51)]) -> Node(p: 141, w: 1.6811046461599064, Modes: [(M: 4, P: 55), (M: 1, P: 30), (M: 7, P: 56)]) -> Node(p: 137, w: 1.6811046461599064, Modes: [(M: 1, P: 30), (M: 4, P: 51), (M: 7, P: 56)]) -> Node(p: 145, w: 2.037616225777447, Modes: [(M: 7, P: 59), (M: 7, P: 56), (M: 1, P: 30)]) -> Node(p: 145, w: 2.037616225777447, Modes: [(M: 7, P: 59), (M: 1, P: 30), (M: 7, P: 56)]) -> Node(p: 142, w: 2.037616225777447, Modes: [(M: 1, P: 30), (M: 7, P: 56), (M: 7, P: 56)]) -> None\n",
            "states ::  [array([7.20987222, 2.81060357, 0.15670743]), array([6.03761931, 3.97316417, 0.9404544 ]), array([6.03761931, 3.97316417, 0.9404544 ])]\n",
            "end of one time step\n",
            "time :  0.2\n",
            "machine :  1\n",
            "psi ::  Node(p: 30, w: 0.3986396875549272, Modes: [(M: 1, P: 30)]) -> Node(p: 55, w: 1.0734869968789669, Modes: [(M: 4, P: 55)]) -> Node(p: 59, w: 1.6554177949588702, Modes: [(M: 7, P: 59)]) -> None\n",
            "machine :  2\n",
            "psi ::  Node(p: 60, w: 1.5663255726311693, Modes: [(M: 1, P: 30), (M: 1, P: 30)]) -> Node(p: 81, w: 2.182675537511708, Modes: [(M: 1, P: 30), (M: 4, P: 51)]) -> Node(p: 85, w: 2.241172881955209, Modes: [(M: 4, P: 55), (M: 1, P: 30)]) -> Node(p: 86, w: 2.686971831607715, Modes: [(M: 1, P: 30), (M: 7, P: 56)]) -> Node(p: 89, w: 2.8231036800351124, Modes: [(M: 7, P: 59), (M: 1, P: 30)]) -> Node(p: 106, w: 2.8575228468357476, Modes: [(M: 4, P: 55), (M: 4, P: 51)]) -> Node(p: 111, w: 3.3618191409317544, Modes: [(M: 4, P: 55), (M: 7, P: 56)]) -> Node(p: 110, w: 3.439453644915651, Modes: [(M: 7, P: 59), (M: 4, P: 51)]) -> Node(p: 115, w: 3.9437499390116577, Modes: [(M: 7, P: 59), (M: 7, P: 56)]) -> None\n",
            "machine :  3\n",
            "psi ::  Node(p: 90, w: 2.7340114577074113, Modes: [(M: 1, P: 30), (M: 1, P: 30), (M: 1, P: 30)]) -> Node(p: 111, w: 3.3503614225879503, Modes: [(M: 1, P: 30), (M: 4, P: 51), (M: 1, P: 30)]) -> Node(p: 111, w: 3.3503614225879503, Modes: [(M: 1, P: 30), (M: 1, P: 30), (M: 4, P: 51)]) -> Node(p: 115, w: 3.408858767031451, Modes: [(M: 4, P: 55), (M: 1, P: 30), (M: 1, P: 30)]) -> Node(p: 116, w: 3.854657716683957, Modes: [(M: 1, P: 30), (M: 7, P: 56), (M: 1, P: 30)]) -> Node(p: 116, w: 3.854657716683957, Modes: [(M: 1, P: 30), (M: 1, P: 30), (M: 7, P: 56)]) -> Node(p: 132, w: 3.9667113874684894, Modes: [(M: 1, P: 30), (M: 4, P: 51), (M: 4, P: 51)]) -> Node(p: 119, w: 3.9907895651113545, Modes: [(M: 7, P: 59), (M: 1, P: 30), (M: 1, P: 30)]) -> Node(p: 136, w: 4.02520873191199, Modes: [(M: 4, P: 55), (M: 4, P: 51), (M: 1, P: 30)]) -> Node(p: 136, w: 4.02520873191199, Modes: [(M: 4, P: 55), (M: 1, P: 30), (M: 4, P: 51)]) -> Node(p: 137, w: 4.471007681564496, Modes: [(M: 1, P: 30), (M: 7, P: 56), (M: 4, P: 51)]) -> Node(p: 137, w: 4.471007681564496, Modes: [(M: 1, P: 30), (M: 4, P: 51), (M: 7, P: 56)]) -> Node(p: 141, w: 4.529505026007996, Modes: [(M: 4, P: 55), (M: 7, P: 56), (M: 1, P: 30)]) -> Node(p: 141, w: 4.529505026007996, Modes: [(M: 4, P: 55), (M: 1, P: 30), (M: 7, P: 56)]) -> Node(p: 140, w: 4.607139529991893, Modes: [(M: 7, P: 59), (M: 4, P: 51), (M: 1, P: 30)]) -> Node(p: 140, w: 4.607139529991893, Modes: [(M: 7, P: 59), (M: 1, P: 30), (M: 4, P: 51)]) -> Node(p: 142, w: 4.975303975660502, Modes: [(M: 1, P: 30), (M: 7, P: 56), (M: 7, P: 56)]) -> Node(p: 145, w: 5.1114358240879, Modes: [(M: 7, P: 59), (M: 7, P: 56), (M: 1, P: 30)]) -> Node(p: 145, w: 5.1114358240879, Modes: [(M: 7, P: 59), (M: 1, P: 30), (M: 7, P: 56)]) -> None\n",
            "states ::  [array([6.27930966, 3.71020853, 1.65541779]), array([7.62058466, 2.38359945, 1.16768589]), array([5.84345308, 4.14874038, 2.28833214])]\n",
            "end of one time step\n",
            "time :  0.4\n",
            "machine :  1\n",
            "psi ::  Node(p: 30, w: 1.884245576699862, Modes: [(M: 1, P: 30)]) -> Node(p: 55, w: 2.491369585938566, Modes: [(M: 4, P: 55)]) -> Node(p: 59, w: 2.9658536977571974, Modes: [(M: 7, P: 59)]) -> None\n",
            "machine :  2\n",
            "psi ::  Node(p: 60, w: 3.2969144296024355, Modes: [(M: 1, P: 30), (M: 1, P: 30)]) -> Node(p: 85, w: 3.9040384388411393, Modes: [(M: 4, P: 55), (M: 1, P: 30)]) -> Node(p: 81, w: 3.961049823573733, Modes: [(M: 1, P: 30), (M: 4, P: 51)]) -> Node(p: 89, w: 4.378522550659771, Modes: [(M: 7, P: 59), (M: 1, P: 30)]) -> Node(p: 86, w: 4.50299379079349, Modes: [(M: 1, P: 30), (M: 7, P: 56)]) -> Node(p: 106, w: 4.568173832812437, Modes: [(M: 4, P: 55), (M: 4, P: 51)]) -> Node(p: 110, w: 5.042657944631069, Modes: [(M: 7, P: 59), (M: 4, P: 51)]) -> Node(p: 111, w: 5.110117800032194, Modes: [(M: 4, P: 55), (M: 7, P: 56)]) -> Node(p: 115, w: 5.584601911850825, Modes: [(M: 7, P: 59), (M: 7, P: 56)]) -> None\n",
            "machine :  3\n",
            "psi ::  Node(p: 90, w: 5.808053994697206, Modes: [(M: 1, P: 30), (M: 1, P: 30), (M: 1, P: 30)]) -> Node(p: 111, w: 6.385147878589265, Modes: [(M: 1, P: 30), (M: 1, P: 30), (M: 4, P: 51)]) -> Node(p: 115, w: 6.4151780039359085, Modes: [(M: 4, P: 55), (M: 1, P: 30), (M: 1, P: 30)]) -> Node(p: 111, w: 6.472189388668502, Modes: [(M: 1, P: 30), (M: 4, P: 51), (M: 1, P: 30)]) -> Node(p: 116, w: 6.812927837586196, Modes: [(M: 1, P: 30), (M: 1, P: 30), (M: 7, P: 56)]) -> Node(p: 119, w: 6.8896621157545415, Modes: [(M: 7, P: 59), (M: 1, P: 30), (M: 1, P: 30)]) -> Node(p: 136, w: 6.99227188782797, Modes: [(M: 4, P: 55), (M: 1, P: 30), (M: 4, P: 51)]) -> Node(p: 116, w: 7.01413335588826, Modes: [(M: 1, P: 30), (M: 7, P: 56), (M: 1, P: 30)]) -> Node(p: 132, w: 7.049283272560563, Modes: [(M: 1, P: 30), (M: 4, P: 51), (M: 4, P: 51)]) -> Node(p: 136, w: 7.079313397907207, Modes: [(M: 4, P: 55), (M: 4, P: 51), (M: 1, P: 30)]) -> Node(p: 141, w: 7.420051846824899, Modes: [(M: 4, P: 55), (M: 1, P: 30), (M: 7, P: 56)]) -> Node(p: 140, w: 7.466755999646601, Modes: [(M: 7, P: 59), (M: 1, P: 30), (M: 4, P: 51)]) -> Node(p: 137, w: 7.4770632315574925, Modes: [(M: 1, P: 30), (M: 4, P: 51), (M: 7, P: 56)]) -> Node(p: 140, w: 7.553797509725838, Modes: [(M: 7, P: 59), (M: 4, P: 51), (M: 1, P: 30)]) -> Node(p: 137, w: 7.59122723978032, Modes: [(M: 1, P: 30), (M: 7, P: 56), (M: 4, P: 51)]) -> Node(p: 141, w: 7.621257365126963, Modes: [(M: 4, P: 55), (M: 7, P: 56), (M: 1, P: 30)]) -> Node(p: 145, w: 7.894535958643532, Modes: [(M: 7, P: 59), (M: 1, P: 30), (M: 7, P: 56)]) -> Node(p: 142, w: 8.01900719877725, Modes: [(M: 1, P: 30), (M: 7, P: 56), (M: 7, P: 56)]) -> Node(p: 145, w: 8.095741476945594, Modes: [(M: 7, P: 59), (M: 7, P: 56), (M: 1, P: 30)]) -> None\n",
            "states ::  [array([5.50168846, 4.48923924, 2.9658537 ]), array([5.79899858, 4.18853377, 2.61874821]), array([7.50631652, 2.49809256, 2.51113957])]\n",
            "end of one time step\n",
            "time :  0.6000000000000001\n",
            "machine :  1\n",
            "psi ::  Node(p: 30, w: 3.183644212192019, Modes: [(M: 1, P: 30)]) -> Node(p: 55, w: 3.732790744086686, Modes: [(M: 4, P: 55)]) -> Node(p: 59, w: 4.114476493854001, Modes: [(M: 7, P: 59)]) -> None\n",
            "machine :  2\n",
            "psi ::  Node(p: 60, w: 6.024151294320529, Modes: [(M: 1, P: 30), (M: 1, P: 30)]) -> Node(p: 85, w: 6.573297826215195, Modes: [(M: 4, P: 55), (M: 1, P: 30)]) -> Node(p: 81, w: 6.59172776773033, Modes: [(M: 1, P: 30), (M: 4, P: 51)]) -> Node(p: 89, w: 6.95498357598251, Modes: [(M: 7, P: 59), (M: 1, P: 30)]) -> Node(p: 86, w: 7.000848915913334, Modes: [(M: 1, P: 30), (M: 7, P: 56)]) -> Node(p: 106, w: 7.140874299624997, Modes: [(M: 4, P: 55), (M: 4, P: 51)]) -> Node(p: 110, w: 7.522560049392312, Modes: [(M: 7, P: 59), (M: 4, P: 51)]) -> Node(p: 111, w: 7.549995447808001, Modes: [(M: 4, P: 55), (M: 7, P: 56)]) -> Node(p: 115, w: 7.931681197575315, Modes: [(M: 7, P: 59), (M: 7, P: 56)]) -> None\n",
            "machine :  3\n",
            "psi ::  Node(p: 90, w: 8.77677723573321, Modes: [(M: 1, P: 30), (M: 1, P: 30), (M: 1, P: 30)]) -> Node(p: 115, w: 9.325923767627877, Modes: [(M: 4, P: 55), (M: 1, P: 30), (M: 1, P: 30)]) -> Node(p: 111, w: 9.344353709143011, Modes: [(M: 1, P: 30), (M: 4, P: 51), (M: 1, P: 30)]) -> Node(p: 111, w: 9.404470547169474, Modes: [(M: 1, P: 30), (M: 1, P: 30), (M: 4, P: 51)]) -> Node(p: 119, w: 9.707609517395191, Modes: [(M: 7, P: 59), (M: 1, P: 30), (M: 1, P: 30)]) -> Node(p: 116, w: 9.753474857326015, Modes: [(M: 1, P: 30), (M: 7, P: 56), (M: 1, P: 30)]) -> Node(p: 116, w: 9.872644171559404, Modes: [(M: 1, P: 30), (M: 1, P: 30), (M: 7, P: 56)]) -> Node(p: 136, w: 9.893500241037678, Modes: [(M: 4, P: 55), (M: 4, P: 51), (M: 1, P: 30)]) -> Node(p: 136, w: 9.953617079064141, Modes: [(M: 4, P: 55), (M: 1, P: 30), (M: 4, P: 51)]) -> Node(p: 132, w: 9.972047020579275, Modes: [(M: 1, P: 30), (M: 4, P: 51), (M: 4, P: 51)]) -> Node(p: 140, w: 10.275185990804994, Modes: [(M: 7, P: 59), (M: 4, P: 51), (M: 1, P: 30)]) -> Node(p: 141, w: 10.302621389220683, Modes: [(M: 4, P: 55), (M: 7, P: 56), (M: 1, P: 30)]) -> Node(p: 140, w: 10.335302828831455, Modes: [(M: 7, P: 59), (M: 1, P: 30), (M: 4, P: 51)]) -> Node(p: 137, w: 10.38116816876228, Modes: [(M: 1, P: 30), (M: 7, P: 56), (M: 4, P: 51)]) -> Node(p: 141, w: 10.42179070345407, Modes: [(M: 4, P: 55), (M: 1, P: 30), (M: 7, P: 56)]) -> Node(p: 137, w: 10.440220644969205, Modes: [(M: 1, P: 30), (M: 4, P: 51), (M: 7, P: 56)]) -> Node(p: 145, w: 10.684307138987997, Modes: [(M: 7, P: 59), (M: 7, P: 56), (M: 1, P: 30)]) -> Node(p: 145, w: 10.803476453221386, Modes: [(M: 7, P: 59), (M: 1, P: 30), (M: 7, P: 56)]) -> Node(p: 142, w: 10.84934179315221, Modes: [(M: 1, P: 30), (M: 7, P: 56), (M: 7, P: 56)]) -> None\n",
            "states ::  [array([7.43029754, 2.57484783, 3.18364421]), array([5.00689534, 4.98460383, 3.8172047 ]), array([5.13263584, 4.85412233, 3.84849288])]\n",
            "end of one time step\n",
            "time :  0.8\n",
            "machine :  1\n",
            "psi ::  Node(p: 30, w: 3.4231649928179175, Modes: [(M: 1, P: 30)]) -> Node(p: 55, w: 4.031983006498363, Modes: [(M: 4, P: 55)]) -> Node(p: 59, w: 4.462640472024748, Modes: [(M: 7, P: 59)]) -> None\n",
            "machine :  2\n",
            "psi ::  Node(p: 60, w: 7.451108645739904, Modes: [(M: 1, P: 30), (M: 1, P: 30)]) -> Node(p: 81, w: 7.962938992423788, Modes: [(M: 1, P: 30), (M: 4, P: 51)]) -> Node(p: 85, w: 8.059926659420348, Modes: [(M: 4, P: 55), (M: 1, P: 30)]) -> Node(p: 86, w: 8.284661657114487, Modes: [(M: 1, P: 30), (M: 7, P: 56)]) -> Node(p: 89, w: 8.490584124946734, Modes: [(M: 7, P: 59), (M: 1, P: 30)]) -> Node(p: 106, w: 8.571757006104233, Modes: [(M: 4, P: 55), (M: 4, P: 51)]) -> Node(p: 111, w: 8.893479670794932, Modes: [(M: 4, P: 55), (M: 7, P: 56)]) -> Node(p: 110, w: 9.002414471630619, Modes: [(M: 7, P: 59), (M: 4, P: 51)]) -> Node(p: 115, w: 9.324137136321315, Modes: [(M: 7, P: 59), (M: 7, P: 56)]) -> None\n",
            "machine :  3\n",
            "psi ::  Node(p: 90, w: 11.511727735636786, Modes: [(M: 1, P: 30), (M: 1, P: 30), (M: 1, P: 30)]) -> Node(p: 111, w: 12.023558082320669, Modes: [(M: 1, P: 30), (M: 4, P: 51), (M: 1, P: 30)]) -> Node(p: 111, w: 12.027029028947226, Modes: [(M: 1, P: 30), (M: 1, P: 30), (M: 4, P: 51)]) -> Node(p: 115, w: 12.12054574931723, Modes: [(M: 4, P: 55), (M: 1, P: 30), (M: 1, P: 30)]) -> Node(p: 116, w: 12.345280747011369, Modes: [(M: 1, P: 30), (M: 7, P: 56), (M: 1, P: 30)]) -> Node(p: 116, w: 12.351047094495941, Modes: [(M: 1, P: 30), (M: 1, P: 30), (M: 7, P: 56)]) -> Node(p: 132, w: 12.538859375631109, Modes: [(M: 1, P: 30), (M: 4, P: 51), (M: 4, P: 51)]) -> Node(p: 119, w: 12.551203214843614, Modes: [(M: 7, P: 59), (M: 1, P: 30), (M: 1, P: 30)]) -> Node(p: 136, w: 12.632376096001114, Modes: [(M: 4, P: 55), (M: 4, P: 51), (M: 1, P: 30)]) -> Node(p: 136, w: 12.63584704262767, Modes: [(M: 4, P: 55), (M: 1, P: 30), (M: 4, P: 51)]) -> Node(p: 137, w: 12.860582040321809, Modes: [(M: 1, P: 30), (M: 7, P: 56), (M: 4, P: 51)]) -> Node(p: 137, w: 12.862877441179826, Modes: [(M: 1, P: 30), (M: 4, P: 51), (M: 7, P: 56)]) -> Node(p: 141, w: 12.954098760691814, Modes: [(M: 4, P: 55), (M: 7, P: 56), (M: 1, P: 30)]) -> Node(p: 141, w: 12.959865108176386, Modes: [(M: 4, P: 55), (M: 1, P: 30), (M: 7, P: 56)]) -> Node(p: 140, w: 13.0630335615275, Modes: [(M: 7, P: 59), (M: 4, P: 51), (M: 1, P: 30)]) -> Node(p: 140, w: 13.066504508154056, Modes: [(M: 7, P: 59), (M: 1, P: 30), (M: 4, P: 51)]) -> Node(p: 142, w: 13.184600105870524, Modes: [(M: 1, P: 30), (M: 7, P: 56), (M: 7, P: 56)]) -> Node(p: 145, w: 13.384756226218197, Modes: [(M: 7, P: 59), (M: 7, P: 56), (M: 1, P: 30)]) -> Node(p: 145, w: 13.390522573702771, Modes: [(M: 7, P: 59), (M: 1, P: 30), (M: 7, P: 56)]) -> None\n",
            "states ::  [array([4.79826767, 5.18815612, 4.46264047]), array([7.32980196, 2.67643537, 4.02794365]), array([4.3729993 , 5.61937975, 4.89993845])]\n",
            "end of one time step\n",
            "time :  1.0\n",
            "machine :  1\n",
            "psi ::  Node(p: 30, w: 4.6699379651979545, Modes: [(M: 1, P: 30)]) -> Node(p: 55, w: 5.159079333499321, Modes: [(M: 4, P: 55)]) -> Node(p: 59, w: 5.440546636504309, Modes: [(M: 7, P: 59)]) -> None\n",
            "machine :  2\n",
            "psi ::  Node(p: 60, w: 8.934876830551051, Modes: [(M: 1, P: 30), (M: 1, P: 30)]) -> Node(p: 85, w: 9.424018198852416, Modes: [(M: 4, P: 55), (M: 1, P: 30)]) -> Node(p: 81, w: 9.519827605678138, Modes: [(M: 1, P: 30), (M: 4, P: 51)]) -> Node(p: 89, w: 9.705485501857405, Modes: [(M: 7, P: 59), (M: 1, P: 30)]) -> Node(p: 86, w: 9.903227127826199, Modes: [(M: 1, P: 30), (M: 7, P: 56)]) -> Node(p: 106, w: 10.008968973979503, Modes: [(M: 4, P: 55), (M: 4, P: 51)]) -> Node(p: 110, w: 10.290436276984492, Modes: [(M: 7, P: 59), (M: 4, P: 51)]) -> Node(p: 111, w: 10.392368496127563, Modes: [(M: 4, P: 55), (M: 7, P: 56)]) -> Node(p: 115, w: 10.673835799132553, Modes: [(M: 7, P: 59), (M: 7, P: 56)]) -> None\n",
            "machine :  3\n",
            "psi ::  Node(p: 90, w: 14.036533242403985, Modes: [(M: 1, P: 30), (M: 1, P: 30), (M: 1, P: 30)]) -> Node(p: 111, w: 14.500749837585612, Modes: [(M: 1, P: 30), (M: 1, P: 30), (M: 4, P: 51)]) -> Node(p: 115, w: 14.52567461070535, Modes: [(M: 4, P: 55), (M: 1, P: 30), (M: 1, P: 30)]) -> Node(p: 111, w: 14.621484017531072, Modes: [(M: 1, P: 30), (M: 4, P: 51), (M: 1, P: 30)]) -> Node(p: 116, w: 14.746067842146061, Modes: [(M: 1, P: 30), (M: 1, P: 30), (M: 7, P: 56)]) -> Node(p: 119, w: 14.807141913710339, Modes: [(M: 7, P: 59), (M: 1, P: 30), (M: 1, P: 30)]) -> Node(p: 136, w: 14.989891205886977, Modes: [(M: 4, P: 55), (M: 1, P: 30), (M: 4, P: 51)]) -> Node(p: 116, w: 15.004883539679133, Modes: [(M: 1, P: 30), (M: 7, P: 56), (M: 1, P: 30)]) -> Node(p: 132, w: 15.0857006127127, Modes: [(M: 1, P: 30), (M: 4, P: 51), (M: 4, P: 51)]) -> Node(p: 136, w: 15.110625385832437, Modes: [(M: 4, P: 55), (M: 4, P: 51), (M: 1, P: 30)]) -> Node(p: 141, w: 15.235209210447426, Modes: [(M: 4, P: 55), (M: 1, P: 30), (M: 7, P: 56)]) -> Node(p: 140, w: 15.271358508891964, Modes: [(M: 7, P: 59), (M: 1, P: 30), (M: 4, P: 51)]) -> Node(p: 137, w: 15.331018617273148, Modes: [(M: 1, P: 30), (M: 4, P: 51), (M: 7, P: 56)]) -> Node(p: 140, w: 15.392092688837426, Modes: [(M: 7, P: 59), (M: 4, P: 51), (M: 1, P: 30)]) -> Node(p: 137, w: 15.46910013486076, Modes: [(M: 1, P: 30), (M: 7, P: 56), (M: 4, P: 51)]) -> Node(p: 141, w: 15.494024907980497, Modes: [(M: 4, P: 55), (M: 7, P: 56), (M: 1, P: 30)]) -> Node(p: 145, w: 15.516676513452415, Modes: [(M: 7, P: 59), (M: 1, P: 30), (M: 7, P: 56)]) -> Node(p: 142, w: 15.714418139421209, Modes: [(M: 1, P: 30), (M: 7, P: 56), (M: 7, P: 56)]) -> Node(p: 145, w: 15.775492210985487, Modes: [(M: 7, P: 59), (M: 7, P: 56), (M: 1, P: 30)]) -> None\n",
            "states ::  [array([4.05635763, 5.9364653 , 5.44054664]), array([4.37826817, 5.60775011, 5.23328916]), array([7.2016413 , 2.80599658, 5.10165641])]\n",
            "end of one time step\n"
          ]
        }
      ]
    },
    {
      "cell_type": "code",
      "source": [
        "\n",
        "#   p = P # total power availbale at time t"
      ],
      "metadata": {
        "id": "I1HidJlCc-hH"
      },
      "execution_count": null,
      "outputs": []
    }
  ]
}