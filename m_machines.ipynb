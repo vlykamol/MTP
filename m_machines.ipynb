{
  "nbformat": 4,
  "nbformat_minor": 0,
  "metadata": {
    "colab": {
      "provenance": [],
      "authorship_tag": "ABX9TyO92F/LuAbe4NEqc39rqr/g",
      "include_colab_link": true
    },
    "kernelspec": {
      "name": "python3",
      "display_name": "Python 3"
    },
    "language_info": {
      "name": "python"
    }
  },
  "cells": [
    {
      "cell_type": "markdown",
      "metadata": {
        "id": "view-in-github",
        "colab_type": "text"
      },
      "source": [
        "<a href=\"https://colab.research.google.com/github/vlykamol/MTP/blob/main/m_machines.ipynb\" target=\"_parent\"><img src=\"https://colab.research.google.com/assets/colab-badge.svg\" alt=\"Open In Colab\"/></a>"
      ]
    },
    {
      "cell_type": "code",
      "execution_count": 3,
      "metadata": {
        "id": "cnYZDM5B8JS0"
      },
      "outputs": [],
      "source": [
        "import math\n",
        "import numpy as np\n",
        "PI = math.pi\n",
        "from scipy.integrate import quad\n",
        "from scipy.linalg import expm\n",
        "import random"
      ]
    },
    {
      "cell_type": "code",
      "source": [
        "def AI(Kd, J, Kt, Fd, GrI, Ke, L, R, Ts):\n",
        "  return np.array([[-Kd/J, Kt/J, -(Fd * GrI)/J], [-Ke/L, -R/L, 0], [(Ts * GrI)/(2 * math.pi), 0, 0]])\n",
        "\n",
        "def BI(GrI, J, L):\n",
        "  return np.array([[0, -GrI/J], [1/L, 0], [0, 0]])\n",
        "\n",
        "def SI(AI, h):\n",
        "  try:\n",
        "    AI_inv = np.linalg.inv(AI) # calulate inverse of AI\n",
        "    exp_AI_h = expm(AI * h) # exponential of AI * h\n",
        "    I = np.eye(len(AI)) # Identity matrix of size AI\n",
        "    Si = N @ AI_inv @ (exp_AI_h - I)\n",
        "    return Si\n",
        "  except np.linalg.LinAlgError:\n",
        "    print(\"Error: The matrix Ai is singular and cannot be inverted.\")\n",
        "    return None\n",
        "\n",
        "N = np.array([[0, 1, 0], [0, 0, 0]])\n",
        "\n",
        "def RI(AI, BI, h):\n",
        "  try:\n",
        "    AI_inv = np.linalg.inv(AI) # calulate inverse of AI\n",
        "    exp_AI_h = expm(AI * h) # exponential of AI * h\n",
        "    I = np.eye(len(AI)) # Identity matrix of size AI\n",
        "\n",
        "    mTerm = (AI_inv @ exp_AI_h) - AI_inv - I * h\n",
        "\n",
        "    RI = N @ AI_inv @ mTerm @ BI\n",
        "    return RI\n",
        "  except np.linalg.LinAlgError:\n",
        "    print(\"Error: The matrix Ai is singular and cannot be inverted.\")\n",
        "    return None\n",
        "\n",
        "def Ei(x, u, SI, RI):\n",
        "  fTerm = np.transpose(u) @ SI @ x\n",
        "  sTerm = np.transpose(u) @ RI @ u\n",
        "  return fTerm + sTerm"
      ],
      "metadata": {
        "id": "bmurAQyX8N0x"
      },
      "execution_count": 4,
      "outputs": []
    },
    {
      "cell_type": "code",
      "source": [
        "def Fi(Ai, Bi, x, u, h):\n",
        "  def integrand(s): # Modified integrand to take index i\n",
        "    return expm(Ai * s) @ Bi\n",
        "\n",
        "  Phi_i = expm(Ai * h)\n",
        "  # Calculate Gamma_i for each element of Bi\n",
        "  Gamma_i = np.zeros_like(Bi)\n",
        "  for i in range(Bi.shape[0]):\n",
        "    for j in range(Bi.shape[1]):\n",
        "      Gamma_i[i, j], _ = quad(lambda s: integrand(s)[i, j], 0, h)\n",
        "\n",
        "  # print(\"phi_i\", Phi_i)\n",
        "  # print(\"Phi_i @ x\", Phi_i @ x)\n",
        "  # print(\"Gamma_i\", Gamma_i)\n",
        "  # print(\"Gamma_i @ u\", Gamma_i @ u)\n",
        "  return Phi_i @ x + Gamma_i @ u"
      ],
      "metadata": {
        "id": "Uqlr_f9rb8M1"
      },
      "execution_count": 5,
      "outputs": []
    },
    {
      "cell_type": "code",
      "source": [
        "h = 0.2 # time step\n",
        "tD = 1 # target depth\n",
        "Va = 10 # input voltage"
      ],
      "metadata": {
        "id": "fjfSJWwY8QVX"
      },
      "execution_count": null,
      "outputs": []
    },
    {
      "cell_type": "code",
      "source": [
        "J = 0.1\n",
        "Kd = 0.25\n",
        "Ke = 1\n",
        "Kt = 1\n",
        "Ts = 1\n",
        "L = 2.5 * 10e-4\n",
        "R = 1\n",
        "Fd = 0.1\n",
        "Fs = 0.2\n",
        "Va = 20\n",
        "G = [1, 2]"
      ],
      "metadata": {
        "id": "4SES-Ygi8d2Y"
      },
      "execution_count": null,
      "outputs": []
    },
    {
      "cell_type": "code",
      "source": [
        "# process constants\n",
        "A = [AI(Fd=Fd, GrI=x, J=J, Kd=Kd, Ke=Ke, Kt=Kt, L=L, R=R, Ts=Ts) for x in G]\n",
        "B = [BI(GrI=x, J=J, L=L) for x in G]"
      ],
      "metadata": {
        "id": "vR3zuyhmAlny"
      },
      "execution_count": null,
      "outputs": []
    },
    {
      "cell_type": "code",
      "source": [
        "A, B"
      ],
      "metadata": {
        "id": "AZw72WjbRGFU"
      },
      "execution_count": null,
      "outputs": []
    },
    {
      "cell_type": "code",
      "source": [
        "x = np.array([0, 0, 0]) # initial state\n",
        "u = np.array([Va, Fs]) # initial control input"
      ],
      "metadata": {
        "id": "JrcWRMyXRMEn"
      },
      "execution_count": null,
      "outputs": []
    },
    {
      "cell_type": "code",
      "source": [
        "x_k1 = Fi(Ai = A[0], Bi=B[0], x=x, u=u, h=h)\n",
        "print(x_k1, np.shape(x_k1))"
      ],
      "metadata": {
        "id": "3brKbqTcjel3"
      },
      "execution_count": null,
      "outputs": []
    },
    {
      "cell_type": "code",
      "source": [
        "x_k1 = [x_k1[0], x_k1[1], 0.25]\n",
        "x_k2 = Fi(Ai = A[1], Bi=B[1], x=x_k1, u=u, h=h)\n",
        "print(x_k2, np.shape(x_k2))"
      ],
      "metadata": {
        "id": "48x822rex9Pn"
      },
      "execution_count": null,
      "outputs": []
    },
    {
      "cell_type": "code",
      "source": [
        "x_k1 = Fi(Ai = A[1], Bi=B[1], x=x, u=u, h=h) # time step = 1 m = 1, n = 3(mode = 2)\n",
        "print(x_k1, np.shape(x_k1))\n",
        "x_k1 = [x_k1[0], x_k1[1], 0.35]\n",
        "\n",
        "x_k2 = Fi(Ai = A[0], Bi=B[0], x=x_k1, u=u, h=h) # time step = 2 m = 1, n = 2(mode = 1)\n",
        "print(x_k2, np.shape(x_k2))\n",
        "temp = math.floor(x_k2[2] * 1000/250)\n",
        "temp = temp * 250 / 1000\n",
        "x_k2 = [x_k2[0], x_k2[1], temp]\n",
        "print(x_k2)\n",
        "\n",
        "x_k3 = Fi(Ai = A[1], Bi=B[1], x=x_k2, u=u, h=h) # time step = 3 m = 1, n = 2(mode = 1)\n",
        "print(x_k3, np.shape(x_k3))\n",
        "temp = math.floor(x_k3[2] * 1000/350)\n",
        "print(temp)\n",
        "temp = temp * 350 / 1000\n",
        "print(temp)"
      ],
      "metadata": {
        "id": "mXRp_OQP0v23"
      },
      "execution_count": null,
      "outputs": []
    },
    {
      "cell_type": "code",
      "source": [
        "x_k2 = Fi(Ai = A[1], Bi=B[1], x=x_k1, u=u, h=h)\n",
        "print(x_k2, np.shape(x_k2))"
      ],
      "metadata": {
        "id": "w1G18o6apU0A"
      },
      "execution_count": null,
      "outputs": []
    },
    {
      "cell_type": "code",
      "source": [
        "x_k1 = Fi(Ai = A[1], Bi=B[1], x=x, u=u, h=h)\n",
        "print(x_k1, np.shape(x_k1))\n",
        "x_k2 = Fi(Ai = A[1], Bi=B[1], x=x_k1, u=u, h=h)\n",
        "print(x_k2, np.shape(x_k2))"
      ],
      "metadata": {
        "id": "dvjHi9e0qt5K"
      },
      "execution_count": null,
      "outputs": []
    },
    {
      "cell_type": "markdown",
      "source": [
        "# one machine scheduling\n"
      ],
      "metadata": {
        "id": "zY4nA0BhyrLA"
      }
    },
    {
      "cell_type": "code",
      "source": [
        "# prompt: create a node structure which holds information like one list, one state (in list formate) and one cost\n",
        "\n",
        "class Node:\n",
        "  def __init__(self, state, path, cost):\n",
        "    self.state = state  # List representing the state\n",
        "    self.path = path    # List of actions taken to reach this state\n",
        "    self.cost = cost    # Cost to reach this state\n",
        "\n",
        "  def print_node(self):\n",
        "    print(\"State:\", self.state)\n",
        "    print(\"Path:\", self.path)\n",
        "    print(\"Cost:\", self.cost)"
      ],
      "metadata": {
        "id": "oHmfSkTDcRNi"
      },
      "execution_count": null,
      "outputs": []
    },
    {
      "cell_type": "code",
      "source": [
        "# machine m ranges from (0,1,2..n-1) having gear ratios\n",
        "def applyMachine(m, node):\n",
        "  x = node.state\n",
        "  I = node.path\n",
        "  e = node.cost\n",
        "\n",
        "  #state update\n",
        "  Ai = A[m]\n",
        "  Bi = B[m]\n",
        "\n",
        "  x_1 = Fi(Ai, Bi, x, u, h)\n",
        "\n",
        "  #path update\n",
        "  I.append(m)\n",
        "\n",
        "  #cost update\n",
        "  Si = SI(Ai, h)\n",
        "  Ri = RI(Ai, Bi, h)\n",
        "  ei = Ei(x, u, Si, Ri)\n",
        "  e += ei\n",
        "\n",
        "  print(x_1)\n",
        "  print(I)\n",
        "  print(e)\n",
        "  return Node(x_1, I, e)"
      ],
      "metadata": {
        "id": "8yj_Y0AicObi"
      },
      "execution_count": null,
      "outputs": []
    },
    {
      "cell_type": "code",
      "source": [
        "m = 3 # no. of machines\n",
        "n = 2 # no. of modes"
      ],
      "metadata": {
        "id": "Sp7sNgy8atVw"
      },
      "execution_count": null,
      "outputs": []
    },
    {
      "cell_type": "code",
      "source": [
        "sol = []\n",
        "pSol = [applyMachine(i, Node(x, [], 0)) for i in range(0, len(G))]"
      ],
      "metadata": {
        "id": "c6HlvCMCcbsf"
      },
      "execution_count": null,
      "outputs": []
    },
    {
      "cell_type": "code",
      "source": [
        "D_k = [] # gradient depth factors"
      ],
      "metadata": {
        "id": "DgECRB_vARlP"
      },
      "execution_count": null,
      "outputs": []
    },
    {
      "cell_type": "code",
      "source": [
        "class sol_list:\n",
        "  def __init__(self, m):\n",
        "    self.sol = {\n",
        "\n",
        "    }"
      ],
      "metadata": {
        "id": "5jG5_NAtQIpq"
      },
      "execution_count": null,
      "outputs": []
    },
    {
      "cell_type": "code",
      "source": [
        "while pSol: # while loop\n",
        "  _pSol = []  # empty list\n",
        "  for i in pSol: # for all partial solution\n",
        "    _pSol += [applyMachine(j, i) for j in range(0, len(G))] # apply all machine for one time step\n",
        "\n",
        "  # remove partial solution that are dominated by those already in sol\n",
        "  for i in _pSol:\n",
        "    for j in sol:\n",
        "      if i.cost >= j.cost:\n",
        "        _pSol.remove(i)\n",
        "        break\n",
        "\n",
        "  # move complete solution to sol\n",
        "  pSol = []\n",
        "  print(\"len of _psol\", len(_pSol), \"len of pSol\", len(pSol))\n",
        "  for i in _pSol:\n",
        "    x = i.state\n",
        "    if x[2] >= tD:\n",
        "      sol.append(i)\n",
        "    else:\n",
        "      pSol.append(i) # Replace pSol with remaining from _pSol"
      ],
      "metadata": {
        "id": "zLKsmSEMd0Gs"
      },
      "execution_count": null,
      "outputs": []
    },
    {
      "cell_type": "markdown",
      "source": [
        "#New implementation"
      ],
      "metadata": {
        "id": "1of283GkebP6"
      }
    },
    {
      "cell_type": "code",
      "source": [
        "class SL:\n",
        "    def __init__(self, mode, power):\n",
        "        self.mode = mode  # Mode associated with the service level\n",
        "        self.power = power  # Power associated with the mode\n",
        "\n",
        "    def __repr__(self):\n",
        "        \"\"\"Representation of a service level.\"\"\"\n",
        "        return f\"(M: {self.mode}, P: {self.power})\""
      ],
      "metadata": {
        "id": "a7vtykc-DOaZ"
      },
      "execution_count": 6,
      "outputs": []
    },
    {
      "cell_type": "code",
      "source": [
        "class Machine:\n",
        "    def __init__(self, name):\n",
        "        self.name = name  # (name or ID)\n",
        "        self.service_levels = []  # service levels (SLs)\n",
        "\n",
        "    def add_sl(self, mode, power):\n",
        "        \"\"\"Add a ServiceLevel to the machine.\"\"\"\n",
        "        sl = SL(mode, power)\n",
        "        self.service_levels.append(sl)\n",
        "\n",
        "    def get_sl(self):\n",
        "        \"\"\"Return all the service levels.\"\"\"\n",
        "        return self.service_levels\n",
        "\n",
        "    def __repr__(self):\n",
        "        \"\"\"Representation of the machine.\"\"\"\n",
        "        return f\"M(ID: {self.name}, SLs: {self.service_levels})\""
      ],
      "metadata": {
        "id": "jjwhQNIXEZom"
      },
      "execution_count": 7,
      "outputs": []
    },
    {
      "cell_type": "code",
      "source": [
        "class Node:\n",
        "    def __init__(self, power, mode, work_done):\n",
        "        self.power = power  # Total power\n",
        "        self.work_done = work_done  # Work done\n",
        "        self.modes = []  # List to store tuples of (mode, power)\n",
        "        self.next = None  # Pointer to the next node\n",
        "\n",
        "    def add_sl(self, mode, power):\n",
        "        \"\"\"Add a tuple of (mode, power) to the list.\"\"\"\n",
        "        sl = SL(mode, power)\n",
        "        self.modes.append(sl)\n",
        "\n",
        "    def get_modes(self):\n",
        "        \"\"\"Return all the modes and associated powers.\"\"\"\n",
        "        return self.modes\n",
        "\n",
        "    def __repr__(self):\n",
        "        \"\"\"Represent the node details.\"\"\"\n",
        "        return f\"Node(p: {self.power}, w: {self.work_done}, Modes: {self.modes})\"\n"
      ],
      "metadata": {
        "id": "ZFR71GLgjxrN"
      },
      "execution_count": 8,
      "outputs": []
    },
    {
      "cell_type": "code",
      "source": [
        "class LinkedList:\n",
        "    def __init__(self):\n",
        "        self.head = None  # Head of the list (initially empty)\n",
        "        self.tail = None\n",
        "        self.len = 0;\n",
        "\n",
        "    # Method to add a new node at the end\n",
        "    def append(self, Node):\n",
        "        self.len += 1\n",
        "        # If the list is empty, make the new node the head\n",
        "        if self.head is None:\n",
        "            self.head = Node\n",
        "            self.tail = Node\n",
        "            return\n",
        "        else:\n",
        "            self.tail.next = Node\n",
        "            self.tail = Node\n",
        "\n",
        "    # Method to get size of linked list\n",
        "    def __len__(self):\n",
        "        return self.len\n",
        "\n",
        "    def copy(self):\n",
        "        new_list = LinkedList()\n",
        "        curr = self.head\n",
        "        while curr:\n",
        "            new_node = Node(power=curr.power, mode=None, work_done=curr.work_done)\n",
        "            new_node.modes = curr.modes.copy()\n",
        "            new_list.append(new_node)\n",
        "            curr = curr.next\n",
        "        return new_list\n",
        "\n",
        "    # Method to print the list\n",
        "    def __repr__(self):\n",
        "      curr = self.head\n",
        "      nodes = [] # create a list to hold the string representation of the nodes\n",
        "      while curr:\n",
        "          nodes.append(str(curr)) # add string representation of node to list\n",
        "          curr = curr.next\n",
        "      return \" -> \".join(nodes) + \" -> None\" # return the formatted string\n"
      ],
      "metadata": {
        "id": "PW9BKPWpfxVo"
      },
      "execution_count": 23,
      "outputs": []
    },
    {
      "cell_type": "code",
      "source": [
        "def create_machine(id, gMin, gRange, num_gears):\n",
        "    machine = Machine(name=f\"{id}\")\n",
        "    previous_power = 0\n",
        "    gears = [gMin + x * gRange for x in range(num_gears)]\n",
        "    for j in gears:\n",
        "        power = random.randint(max(30, previous_power + 1), previous_power + 30)\n",
        "        machine.add_sl(j, power)\n",
        "        previous_power = power\n",
        "    return machine"
      ],
      "metadata": {
        "id": "43NAvPJcOvcw"
      },
      "execution_count": 10,
      "outputs": []
    },
    {
      "cell_type": "code",
      "source": [
        "# Script to create 3 machines and print their details\n",
        "machines = [create_machine(x, 1, 5, 5) for x in range(1, 4)]\n",
        "\n",
        "# Print details of each machine\n",
        "for machine in machines:\n",
        "    print(machine)"
      ],
      "metadata": {
        "colab": {
          "base_uri": "https://localhost:8080/"
        },
        "id": "3I3ycZ5jLhdK",
        "outputId": "3d3f34f0-95ef-4dd1-f034-aa2135427517"
      },
      "execution_count": 11,
      "outputs": [
        {
          "output_type": "stream",
          "name": "stdout",
          "text": [
            "M(ID: 1, SLs: [(M: 1, P: 30), (M: 6, P: 40), (M: 11, P: 67), (M: 16, P: 88), (M: 21, P: 106)])\n",
            "M(ID: 2, SLs: [(M: 1, P: 30), (M: 6, P: 55), (M: 11, P: 68), (M: 16, P: 73), (M: 21, P: 74)])\n",
            "M(ID: 3, SLs: [(M: 1, P: 30), (M: 6, P: 39), (M: 11, P: 57), (M: 16, P: 63), (M: 21, P: 75)])\n"
          ]
        }
      ]
    },
    {
      "cell_type": "code",
      "source": [
        "T = 1; # total time\n",
        "P = 120; # total power at time t\n",
        "h = 0.2 # time step\n",
        "tD = 1 # target depth\n",
        "Va = 10 # input voltage"
      ],
      "metadata": {
        "id": "TfbFxB79Lh4V"
      },
      "execution_count": 12,
      "outputs": []
    },
    {
      "cell_type": "code",
      "source": [
        "J = 0.1\n",
        "Kd = 0.25\n",
        "Ke = 1\n",
        "Kt = 1\n",
        "Ts = 1\n",
        "L = 2.5 * 10e-4\n",
        "R = 1\n",
        "Fd = 0.1\n",
        "Fs = 0.2"
      ],
      "metadata": {
        "id": "ZSldr6DJfeKt"
      },
      "execution_count": 13,
      "outputs": []
    },
    {
      "cell_type": "code",
      "source": [
        "x = [0, 0, 0]\n",
        "u = [Va, Fs]"
      ],
      "metadata": {
        "id": "iL8utiQEWTNC"
      },
      "execution_count": 14,
      "outputs": []
    },
    {
      "cell_type": "code",
      "source": [
        "states = [x for j in range(0, len(machines))]\n",
        "inputs = [u for j in range(0, len(machines))]"
      ],
      "metadata": {
        "id": "bygIoscsWPtH"
      },
      "execution_count": 15,
      "outputs": []
    },
    {
      "cell_type": "code",
      "source": [
        "print(states)\n",
        "print(inputs)"
      ],
      "metadata": {
        "colab": {
          "base_uri": "https://localhost:8080/"
        },
        "id": "KUMdFVSnW2Xx",
        "outputId": "e8343c03-db44-4ab6-f8b4-8d0e2dba435c"
      },
      "execution_count": 16,
      "outputs": [
        {
          "output_type": "stream",
          "name": "stdout",
          "text": [
            "[[0, 0, 0], [0, 0, 0], [0, 0, 0]]\n",
            "[[10, 0.2], [10, 0.2], [10, 0.2]]\n"
          ]
        }
      ]
    },
    {
      "cell_type": "code",
      "source": [
        "# machine m ranges from (0,1,2..n-1) having gear ratios\n",
        "def applyMode(m, state, input):\n",
        "  #state update\n",
        "  Ai = AI(Fd=Fd, GrI=m, J=J, Kd=Kd, Ke=Ke, Kt=Kt, L=L, R=R, Ts=Ts)\n",
        "  Bi = BI(GrI=m, J=J, L=L)\n",
        "  x_1 = Fi(Ai, Bi, state, input, h)\n",
        "  return x_1"
      ],
      "metadata": {
        "id": "thOdJd1OCC_3"
      },
      "execution_count": 17,
      "outputs": []
    },
    {
      "cell_type": "code",
      "source": [
        "def pruneNodes(llist):\n",
        "  print(\"before pruning\", llist)\n",
        "  head = llist.head\n",
        "  if not head:\n",
        "        return None\n",
        "\n",
        "  current = head\n",
        "  while current:\n",
        "      previous = current\n",
        "      check_node = current.next\n",
        "      while check_node:\n",
        "          # Check if `check_node` has more power but the same or less work\n",
        "          if check_node.power >= current.power and check_node.work_done <= current.work_done:\n",
        "              # Remove the `check_node`\n",
        "              previous.next = check_node.next\n",
        "          else:\n",
        "              previous = check_node\n",
        "          check_node = previous.next\n",
        "      current = current.next\n",
        "\n",
        "  # current = head\n",
        "  # while current and current.next:\n",
        "  #     next_node = current.next\n",
        "  #     # Check if the next node has greater power but same or less work\n",
        "  #     if next_node.power > current.power and next_node.work_done <= current.work_done:\n",
        "  #         current.next = next_node.next\n",
        "  #     else:\n",
        "  #         current = current.next\n",
        "\n",
        "  print(\"after pruning\", llist)\n",
        "  return llist"
      ],
      "metadata": {
        "id": "4Zc31Stfil5L"
      },
      "execution_count": 43,
      "outputs": []
    },
    {
      "cell_type": "code",
      "source": [
        "lam = Node(power=0, mode=None, work_done=0)\n",
        "psi = LinkedList()\n",
        "psi.append(lam)\n",
        "\n",
        "print(\"start of one time step\")\n",
        "for i, m in enumerate(machines):\n",
        "    print(\"machine : \", m.name)\n",
        "    psi_prev = psi.copy()\n",
        "    g = len(psi_prev)\n",
        "    lls = []\n",
        "    for k in m.service_levels:\n",
        "      phi_k = LinkedList()\n",
        "      curr = psi_prev.head\n",
        "      state = states[i]\n",
        "      input = inputs[i]\n",
        "\n",
        "      while curr:\n",
        "        p = curr.power + k.power\n",
        "        if p > P :\n",
        "          curr = curr.next\n",
        "          continue\n",
        "        state = applyMode(k.mode, state, input)\n",
        "        modes = curr.get_modes().copy()\n",
        "        wd = curr.work_done + state[2]\n",
        "        # create a new node\n",
        "        lam = Node(power=p, mode=0, work_done=wd)\n",
        "        lam.modes = modes\n",
        "        lam.add_sl(k.mode, k.power)\n",
        "\n",
        "        phi_k.append(lam) # append to kth linkedlist\n",
        "        curr = curr.next\n",
        "\n",
        "      lls.append(phi_k) # add kth linkedlist to merge\n",
        "\n",
        "    _psi = LinkedList()\n",
        "    for p in lls:\n",
        "      curr = p.head\n",
        "      while curr:\n",
        "        _psi.append(curr)\n",
        "        curr = curr.next\n",
        "\n",
        "    # pruning nodes\n",
        "    _psi = pruneNodes(_psi)\n",
        "    psi = _psi\n",
        "print(\"end of one time step\")"
      ],
      "metadata": {
        "colab": {
          "base_uri": "https://localhost:8080/"
        },
        "id": "exZYYscQYmwt",
        "outputId": "a5aa7b8b-3865-4417-e197-bcde3fddaece"
      },
      "execution_count": 44,
      "outputs": [
        {
          "output_type": "stream",
          "name": "stdout",
          "text": [
            "start of one time step\n",
            "machine :  1\n",
            "before pruning Node(p: 30, w: 0.15670743458895728, Modes: [(M: 1, P: 30)]) -> Node(p: 40, w: 0.8298858225297023, Modes: [(M: 6, P: 40)]) -> Node(p: 67, w: 1.296630370682892, Modes: [(M: 11, P: 67)]) -> Node(p: 88, w: 1.54613673352101, Modes: [(M: 16, P: 88)]) -> Node(p: 106, w: 1.5914339925569445, Modes: [(M: 21, P: 106)]) -> None\n",
            "after pruning Node(p: 30, w: 0.15670743458895728, Modes: [(M: 1, P: 30)]) -> Node(p: 40, w: 0.8298858225297023, Modes: [(M: 6, P: 40)]) -> Node(p: 67, w: 1.296630370682892, Modes: [(M: 11, P: 67)]) -> Node(p: 88, w: 1.54613673352101, Modes: [(M: 16, P: 88)]) -> Node(p: 106, w: 1.5914339925569445, Modes: [(M: 21, P: 106)]) -> None\n",
            "machine :  2\n",
            "before pruning Node(p: 60, w: 0.31341486917791456, Modes: [(M: 1, P: 30), (M: 1, P: 30)]) -> Node(p: 70, w: 1.2285255100846295, Modes: [(M: 6, P: 40), (M: 1, P: 30)]) -> Node(p: 97, w: 1.9431894158537606, Modes: [(M: 11, P: 67), (M: 1, P: 30)]) -> Node(p: 118, w: 2.440492533684507, Modes: [(M: 16, P: 88), (M: 1, P: 30)]) -> Node(p: 85, w: 0.9865932571186596, Modes: [(M: 1, P: 30), (M: 6, P: 55)]) -> Node(p: 95, w: 2.8739016758631752, Modes: [(M: 6, P: 40), (M: 6, P: 55)]) -> Node(p: 98, w: 1.4533378052718493, Modes: [(M: 1, P: 30), (M: 11, P: 68)]) -> Node(p: 108, w: 3.7785352673771264, Modes: [(M: 6, P: 40), (M: 11, P: 68)]) -> Node(p: 103, w: 1.7028441681099673, Modes: [(M: 1, P: 30), (M: 16, P: 73)]) -> Node(p: 113, w: 3.9275256281994393, Modes: [(M: 6, P: 40), (M: 16, P: 73)]) -> Node(p: 104, w: 1.7481414271459017, Modes: [(M: 1, P: 30), (M: 21, P: 74)]) -> Node(p: 114, w: 3.5165484633923025, Modes: [(M: 6, P: 40), (M: 21, P: 74)]) -> None\n",
            "after pruning Node(p: 60, w: 0.31341486917791456, Modes: [(M: 1, P: 30), (M: 1, P: 30)]) -> Node(p: 70, w: 1.2285255100846295, Modes: [(M: 6, P: 40), (M: 1, P: 30)]) -> Node(p: 97, w: 1.9431894158537606, Modes: [(M: 11, P: 67), (M: 1, P: 30)]) -> Node(p: 118, w: 2.440492533684507, Modes: [(M: 16, P: 88), (M: 1, P: 30)]) -> Node(p: 95, w: 2.8739016758631752, Modes: [(M: 6, P: 40), (M: 6, P: 55)]) -> Node(p: 108, w: 3.7785352673771264, Modes: [(M: 6, P: 40), (M: 11, P: 68)]) -> Node(p: 113, w: 3.9275256281994393, Modes: [(M: 6, P: 40), (M: 16, P: 73)]) -> None\n",
            "machine :  3\n",
            "before pruning Node(p: 90, w: 0.4701223037668718, Modes: [(M: 1, P: 30), (M: 1, P: 30), (M: 1, P: 30)]) -> Node(p: 100, w: 1.6271651976395567, Modes: [(M: 6, P: 40), (M: 1, P: 30), (M: 1, P: 30)]) -> Node(p: 99, w: 1.143300691707617, Modes: [(M: 1, P: 30), (M: 1, P: 30), (M: 6, P: 39)]) -> Node(p: 109, w: 3.272541363418102, Modes: [(M: 6, P: 40), (M: 1, P: 30), (M: 6, P: 39)]) -> Node(p: 117, w: 1.6100452398608067, Modes: [(M: 1, P: 30), (M: 1, P: 30), (M: 11, P: 57)]) -> None\n",
            "after pruning Node(p: 90, w: 0.4701223037668718, Modes: [(M: 1, P: 30), (M: 1, P: 30), (M: 1, P: 30)]) -> Node(p: 100, w: 1.6271651976395567, Modes: [(M: 6, P: 40), (M: 1, P: 30), (M: 1, P: 30)]) -> Node(p: 99, w: 1.143300691707617, Modes: [(M: 1, P: 30), (M: 1, P: 30), (M: 6, P: 39)]) -> Node(p: 109, w: 3.272541363418102, Modes: [(M: 6, P: 40), (M: 1, P: 30), (M: 6, P: 39)]) -> None\n",
            "end of one time step\n"
          ]
        }
      ]
    },
    {
      "cell_type": "code",
      "source": [
        "# for t in range(0, int(T / h) + 1):\n",
        "#   current_time = t * h\n",
        "#   print(\"time : \", current_time)\n",
        "#   p = P # total power availbale at time t"
      ],
      "metadata": {
        "id": "I1HidJlCc-hH"
      },
      "execution_count": null,
      "outputs": []
    }
  ]
}