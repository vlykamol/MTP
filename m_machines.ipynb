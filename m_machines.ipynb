{
  "nbformat": 4,
  "nbformat_minor": 0,
  "metadata": {
    "colab": {
      "provenance": []
    },
    "kernelspec": {
      "name": "python3",
      "display_name": "Python 3"
    },
    "language_info": {
      "name": "python"
    }
  },
  "cells": [
    {
      "cell_type": "code",
      "execution_count": 78,
      "metadata": {
        "id": "cnYZDM5B8JS0"
      },
      "outputs": [],
      "source": [
        "import math\n",
        "import numpy as np\n",
        "PI = math.pi\n",
        "from scipy.integrate import quad\n",
        "from scipy.linalg import expm\n",
        "import random"
      ]
    },
    {
      "cell_type": "code",
      "source": [
        "def AI(Kd, J, Kt, Fd, GrI, Ke, L, R, Ts):\n",
        "  return np.array([[-Kd/J, Kt/J, -(Fd * GrI)/J], [-Ke/L, -R/L, 0], [(Ts * GrI)/(2 * math.pi), 0, 0]])\n",
        "\n",
        "def BI(GrI, J, L):\n",
        "  return np.array([[0, -GrI/J], [1/L, 0], [0, 0]])\n",
        "\n",
        "def SI(AI, h):\n",
        "  try:\n",
        "    AI_inv = np.linalg.inv(AI) # calulate inverse of AI\n",
        "    exp_AI_h = expm(AI * h) # exponential of AI * h\n",
        "    I = np.eye(len(AI)) # Identity matrix of size AI\n",
        "    Si = N @ AI_inv @ (exp_AI_h - I)\n",
        "    return Si\n",
        "  except np.linalg.LinAlgError:\n",
        "    print(\"Error: The matrix Ai is singular and cannot be inverted.\")\n",
        "    return None\n",
        "\n",
        "N = np.array([[0, 1, 0], [0, 0, 0]])\n",
        "\n",
        "def RI(AI, BI, h):\n",
        "  try:\n",
        "    AI_inv = np.linalg.inv(AI) # calulate inverse of AI\n",
        "    exp_AI_h = expm(AI * h) # exponential of AI * h\n",
        "    I = np.eye(len(AI)) # Identity matrix of size AI\n",
        "\n",
        "    mTerm = (AI_inv @ exp_AI_h) - AI_inv - I * h\n",
        "\n",
        "    RI = N @ AI_inv @ mTerm @ BI\n",
        "    return RI\n",
        "  except np.linalg.LinAlgError:\n",
        "    print(\"Error: The matrix Ai is singular and cannot be inverted.\")\n",
        "    return None\n",
        "\n",
        "def Ei(x, u, SI, RI):\n",
        "  fTerm = np.transpose(u) @ SI @ x\n",
        "  sTerm = np.transpose(u) @ RI @ u\n",
        "  return fTerm + sTerm"
      ],
      "metadata": {
        "id": "bmurAQyX8N0x"
      },
      "execution_count": null,
      "outputs": []
    },
    {
      "cell_type": "code",
      "source": [
        "def Fi(Ai, Bi, x, u, h):\n",
        "  def integrand(s): # Modified integrand to take index i\n",
        "    return expm(Ai * s) @ Bi\n",
        "\n",
        "  Phi_i = expm(Ai * h)\n",
        "  # Calculate Gamma_i for each element of Bi\n",
        "  Gamma_i = np.zeros_like(Bi)\n",
        "  for i in range(Bi.shape[0]):\n",
        "    for j in range(Bi.shape[1]):\n",
        "      Gamma_i[i, j], _ = quad(lambda s: integrand(s)[i, j], 0, h)\n",
        "\n",
        "  print(\"phi_i\", Phi_i)\n",
        "  print(\"Phi_i @ x\", Phi_i @ x)\n",
        "  print(\"Gamma_i\", Gamma_i)\n",
        "  print(\"Gamma_i @ u\", Gamma_i @ u)\n",
        "  return Phi_i @ x + Gamma_i @ u"
      ],
      "metadata": {
        "id": "Uqlr_f9rb8M1"
      },
      "execution_count": null,
      "outputs": []
    },
    {
      "cell_type": "code",
      "source": [
        "h = 0.2 # time step\n",
        "tD = 1 # target depth\n",
        "Va = 10 # input voltage"
      ],
      "metadata": {
        "id": "fjfSJWwY8QVX"
      },
      "execution_count": null,
      "outputs": []
    },
    {
      "cell_type": "code",
      "source": [
        "J = 0.1\n",
        "Kd = 0.25\n",
        "Ke = 1\n",
        "Kt = 1\n",
        "Ts = 1\n",
        "L = 2.5 * 10e-4\n",
        "R = 1\n",
        "Fd = 0.1\n",
        "Fs = 0.2\n",
        "Va = 20\n",
        "G = [1, 2]"
      ],
      "metadata": {
        "id": "4SES-Ygi8d2Y"
      },
      "execution_count": null,
      "outputs": []
    },
    {
      "cell_type": "code",
      "source": [
        "# process constants\n",
        "A = [AI(Fd=Fd, GrI=x, J=J, Kd=Kd, Ke=Ke, Kt=Kt, L=L, R=R, Ts=Ts) for x in G]\n",
        "B = [BI(GrI=x, J=J, L=L) for x in G]"
      ],
      "metadata": {
        "id": "vR3zuyhmAlny"
      },
      "execution_count": null,
      "outputs": []
    },
    {
      "cell_type": "code",
      "source": [
        "A, B"
      ],
      "metadata": {
        "colab": {
          "base_uri": "https://localhost:8080/"
        },
        "id": "AZw72WjbRGFU",
        "outputId": "bbc52047-b4fa-4ad8-c8e3-ed1224b646cb"
      },
      "execution_count": null,
      "outputs": [
        {
          "output_type": "execute_result",
          "data": {
            "text/plain": [
              "([array([[-2.50000000e+00,  1.00000000e+01, -1.00000000e+00],\n",
              "         [-4.00000000e+02, -4.00000000e+02,  0.00000000e+00],\n",
              "         [ 1.59154943e-01,  0.00000000e+00,  0.00000000e+00]]),\n",
              "  array([[-2.50000000e+00,  1.00000000e+01, -2.00000000e+00],\n",
              "         [-4.00000000e+02, -4.00000000e+02,  0.00000000e+00],\n",
              "         [ 3.18309886e-01,  0.00000000e+00,  0.00000000e+00]])],\n",
              " [array([[  0., -10.],\n",
              "         [400.,   0.],\n",
              "         [  0.,   0.]]),\n",
              "  array([[  0., -20.],\n",
              "         [400.,   0.],\n",
              "         [  0.,   0.]])])"
            ]
          },
          "metadata": {},
          "execution_count": 7
        }
      ]
    },
    {
      "cell_type": "code",
      "source": [
        "x = np.array([0, 0, 0]) # initial state\n",
        "u = np.array([Va, Fs]) # initial control input"
      ],
      "metadata": {
        "id": "JrcWRMyXRMEn"
      },
      "execution_count": null,
      "outputs": []
    },
    {
      "cell_type": "code",
      "source": [
        "x_k1 = Fi(Ai = A[0], Bi=B[0], x=x, u=u, h=h)\n",
        "print(x_k1, np.shape(x_k1))"
      ],
      "metadata": {
        "colab": {
          "base_uri": "https://localhost:8080/"
        },
        "id": "3brKbqTcjel3",
        "outputId": "61943ad4-4b49-4f4b-fe9f-21048fd231bf"
      },
      "execution_count": null,
      "outputs": [
        {
          "output_type": "stream",
          "name": "stdout",
          "text": [
            "phi_i [[ 7.81879133e-02  2.02025590e-03 -7.37762732e-02]\n",
            " [-8.08102360e-02 -2.08798447e-03  7.35742476e-02]\n",
            " [ 1.17418586e-02  2.92742630e-04  9.98371073e-01]]\n",
            "Phi_i @ x [0. 0. 0.]\n",
            "Gamma_i [[ 0.73574248 -0.73776273]\n",
            " [ 0.26634551  0.73574248]\n",
            " [ 0.01599653 -0.01628927]]\n",
            "Gamma_i @ u [14.56729698  5.47405865  0.31667272]\n",
            "[14.56729698  5.47405865  0.31667272] (3,)\n"
          ]
        }
      ]
    },
    {
      "cell_type": "code",
      "source": [
        "x_k1 = [x_k1[0], x_k1[1], 0.25]\n",
        "x_k2 = Fi(Ai = A[1], Bi=B[1], x=x_k1, u=u, h=h)\n",
        "print(x_k2, np.shape(x_k2))"
      ],
      "metadata": {
        "colab": {
          "base_uri": "https://localhost:8080/"
        },
        "id": "48x822rex9Pn",
        "outputId": "52f1547e-58b3-41d0-90bd-3861336ee910"
      },
      "execution_count": null,
      "outputs": [
        {
          "output_type": "stream",
          "name": "stdout",
          "text": [
            "phi_i [[ 7.59770629e-02  1.96547221e-03 -1.47117013e-01]\n",
            " [-7.86188882e-02 -2.03369811e-03  1.46723919e-01]\n",
            " [ 2.34143998e-02  5.83795923e-04  9.93492923e-01]]\n",
            "Phi_i @ x [ 1.0807603  -1.1197163   0.59265348]\n",
            "Gamma_i [[ 0.73361959 -1.47117013]\n",
            " [ 0.2684141   1.46723919]\n",
            " [ 0.03195159 -0.06507077]]\n",
            "Gamma_i @ u [14.37815784  5.66172993  0.62601767]\n",
            "[15.45891814  4.54201364  1.21867115] (3,)\n"
          ]
        }
      ]
    },
    {
      "cell_type": "code",
      "source": [
        "x_k1 = Fi(Ai = A[1], Bi=B[1], x=x, u=u, h=h) # time step = 1 m = 1, n = 3(mode = 2)\n",
        "print(x_k1, np.shape(x_k1))\n",
        "x_k1 = [x_k1[0], x_k1[1], 0.35]\n",
        "\n",
        "x_k2 = Fi(Ai = A[0], Bi=B[0], x=x_k1, u=u, h=h) # time step = 2 m = 1, n = 2(mode = 1)\n",
        "print(x_k2, np.shape(x_k2))\n",
        "temp = math.floor(x_k2[2] * 1000/250)\n",
        "temp = temp * 250 / 1000\n",
        "x_k2 = [x_k2[0], x_k2[1], temp]\n",
        "print(x_k2)\n",
        "\n",
        "x_k3 = Fi(Ai = A[1], Bi=B[1], x=x_k2, u=u, h=h) # time step = 3 m = 1, n = 2(mode = 1)\n",
        "print(x_k3, np.shape(x_k3))\n",
        "temp = math.floor(x_k3[2] * 1000/350)\n",
        "print(temp)\n",
        "temp = temp * 350 / 1000\n",
        "print(temp)"
      ],
      "metadata": {
        "colab": {
          "base_uri": "https://localhost:8080/"
        },
        "id": "mXRp_OQP0v23",
        "outputId": "34ae92fc-6ae5-4738-f95c-cc16707b5073"
      },
      "execution_count": null,
      "outputs": [
        {
          "output_type": "stream",
          "name": "stdout",
          "text": [
            "phi_i [[ 7.59770629e-02  1.96547221e-03 -1.47117013e-01]\n",
            " [-7.86188882e-02 -2.03369811e-03  1.46723919e-01]\n",
            " [ 2.34143998e-02  5.83795923e-04  9.93492923e-01]]\n",
            "Phi_i @ x [0. 0. 0.]\n",
            "Gamma_i [[ 0.73361959 -1.47117013]\n",
            " [ 0.2684141   1.46723919]\n",
            " [ 0.03195159 -0.06507077]]\n",
            "Gamma_i @ u [14.37815784  5.66172993  0.62601767]\n",
            "[14.37815784  5.66172993  0.62601767] (3,)\n",
            "phi_i [[ 7.81879133e-02  2.02025590e-03 -7.37762732e-02]\n",
            " [-8.08102360e-02 -2.08798447e-03  7.35742476e-02]\n",
            " [ 1.17418586e-02  2.92742630e-04  9.98371073e-01]]\n",
            "Phi_i @ x [ 1.10981461 -1.14797295  0.5199136 ]\n",
            "Gamma_i [[ 0.73574248 -0.73776273]\n",
            " [ 0.26634551  0.73574248]\n",
            " [ 0.01599653 -0.01628927]]\n",
            "Gamma_i @ u [14.56729698  5.47405865  0.31667272]\n",
            "[15.67711159  4.32608571  0.83658632] (3,)\n",
            "[15.677111589055617, 4.326085709530488, 0.75]\n",
            "phi_i [[ 7.59770629e-02  1.96547221e-03 -1.47117013e-01]\n",
            " [-7.86188882e-02 -2.03369811e-03  1.46723919e-01]\n",
            " [ 2.34143998e-02  5.83795923e-04  9.93492923e-01]]\n",
            "Phi_i @ x [ 1.08926593 -1.1312721   1.1147154 ]\n",
            "Gamma_i [[ 0.73361959 -1.47117013]\n",
            " [ 0.2684141   1.46723919]\n",
            " [ 0.03195159 -0.06507077]]\n",
            "Gamma_i @ u [14.37815784  5.66172993  0.62601767]\n",
            "[15.46742377  4.53045784  1.74073307] (3,)\n",
            "4\n",
            "1.4\n"
          ]
        }
      ]
    },
    {
      "cell_type": "code",
      "source": [
        "x_k2 = Fi(Ai = A[1], Bi=B[1], x=x_k1, u=u, h=h)\n",
        "print(x_k2, np.shape(x_k2))"
      ],
      "metadata": {
        "colab": {
          "base_uri": "https://localhost:8080/"
        },
        "id": "w1G18o6apU0A",
        "outputId": "5f3a56a8-5248-4e69-83bc-3143f643bb68"
      },
      "execution_count": null,
      "outputs": [
        {
          "output_type": "stream",
          "name": "stdout",
          "text": [
            "phi_i [[ 7.59770629e-02  1.96547221e-03 -1.47117013e-01]\n",
            " [-7.86188882e-02 -2.03369811e-03  1.46723919e-01]\n",
            " [ 2.34143998e-02  5.83795923e-04  9.93492923e-01]]\n",
            "Phi_i @ x [ 1.0709516  -1.10993381  0.65889236]\n",
            "Gamma_i [[ 0.73361959 -1.47117013]\n",
            " [ 0.2684141   1.46723919]\n",
            " [ 0.03195159 -0.06507077]]\n",
            "Gamma_i @ u [14.37815784  5.66172993  0.62601767]\n",
            "[15.44910944  4.55179612  1.28491003] (3,)\n"
          ]
        }
      ]
    },
    {
      "cell_type": "code",
      "source": [
        "x_k1 = Fi(Ai = A[1], Bi=B[1], x=x, u=u, h=h)\n",
        "print(x_k1, np.shape(x_k1))\n",
        "x_k2 = Fi(Ai = A[1], Bi=B[1], x=x_k1, u=u, h=h)\n",
        "print(x_k2, np.shape(x_k2))"
      ],
      "metadata": {
        "colab": {
          "base_uri": "https://localhost:8080/"
        },
        "id": "dvjHi9e0qt5K",
        "outputId": "26a15e18-fbc4-460d-fe29-e98434dfd285"
      },
      "execution_count": null,
      "outputs": [
        {
          "output_type": "stream",
          "name": "stdout",
          "text": [
            "phi_i [[ 7.59770629e-02  1.96547221e-03 -1.47117013e-01]\n",
            " [-7.86188882e-02 -2.03369811e-03  1.46723919e-01]\n",
            " [ 2.34143998e-02  5.83795923e-04  9.93492923e-01]]\n",
            "Phi_i @ x [0. 0. 0.]\n",
            "Gamma_i [[ 0.73361959 -1.47117013]\n",
            " [ 0.2684141   1.46723919]\n",
            " [ 0.03195159 -0.06507077]]\n",
            "Gamma_i @ u [14.37815784  5.66172993  0.62601767]\n",
            "[14.37815784  5.66172993  0.62601767] (3,)\n",
            "phi_i [[ 7.59770629e-02  1.96547221e-03 -1.47117013e-01]\n",
            " [-7.86188882e-02 -2.03369811e-03  1.46723919e-01]\n",
            " [ 2.34143998e-02  5.83795923e-04  9.93492923e-01]]\n",
            "Phi_i @ x [ 1.01144033 -1.05005727  0.96190536]\n",
            "Gamma_i [[ 0.73361959 -1.47117013]\n",
            " [ 0.2684141   1.46723919]\n",
            " [ 0.03195159 -0.06507077]]\n",
            "Gamma_i @ u [14.37815784  5.66172993  0.62601767]\n",
            "[15.38959817  4.61167267  1.58792303] (3,)\n"
          ]
        }
      ]
    },
    {
      "cell_type": "code",
      "source": [
        "# prompt: create a node structure which holds information like one list, one state (in list formate) and one cost\n",
        "\n",
        "class Node:\n",
        "  def __init__(self, state, path, cost):\n",
        "    self.state = state  # List representing the state\n",
        "    self.path = path    # List of actions taken to reach this state\n",
        "    self.cost = cost    # Cost to reach this state\n",
        "\n",
        "  def print_node(self):\n",
        "    print(\"State:\", self.state)\n",
        "    print(\"Path:\", self.path)\n",
        "    print(\"Cost:\", self.cost)"
      ],
      "metadata": {
        "id": "oHmfSkTDcRNi"
      },
      "execution_count": null,
      "outputs": []
    },
    {
      "cell_type": "code",
      "source": [
        "# machine m ranges from (0,1,2..n-1) having gear ratios\n",
        "def applyMachine(m, node):\n",
        "  x = node.state\n",
        "  I = node.path\n",
        "  e = node.cost\n",
        "\n",
        "  #state update\n",
        "  Ai = A[m]\n",
        "  Bi = B[m]\n",
        "\n",
        "  x_1 = Fi(Ai, Bi, x, u, h)\n",
        "\n",
        "  #path update\n",
        "  I.append(m)\n",
        "\n",
        "  #cost update\n",
        "  Si = SI(Ai, h)\n",
        "  Ri = RI(Ai, Bi, h)\n",
        "  ei = Ei(x, u, Si, Ri)\n",
        "  e += ei\n",
        "\n",
        "  print(x_1)\n",
        "  print(I)\n",
        "  print(e)\n",
        "  return Node(x_1, I, e)"
      ],
      "metadata": {
        "id": "8yj_Y0AicObi"
      },
      "execution_count": null,
      "outputs": []
    },
    {
      "cell_type": "code",
      "source": [
        "m = 3 # no. of machines\n",
        "n = 2 # no. of modes"
      ],
      "metadata": {
        "id": "Sp7sNgy8atVw"
      },
      "execution_count": null,
      "outputs": []
    },
    {
      "cell_type": "code",
      "source": [
        "sol = []\n",
        "pSol = [applyMachine(i, Node(x, [], 0)) for i in range(0, len(G))]"
      ],
      "metadata": {
        "id": "c6HlvCMCcbsf"
      },
      "execution_count": null,
      "outputs": []
    },
    {
      "cell_type": "code",
      "source": [
        "D_k = [] # gradient depth factors"
      ],
      "metadata": {
        "id": "DgECRB_vARlP"
      },
      "execution_count": null,
      "outputs": []
    },
    {
      "cell_type": "code",
      "source": [
        "class sol_list:\n",
        "  def __init__(self, m):\n",
        "    self.sol = {\n",
        "\n",
        "    }"
      ],
      "metadata": {
        "id": "5jG5_NAtQIpq"
      },
      "execution_count": null,
      "outputs": []
    },
    {
      "cell_type": "code",
      "source": [
        "while pSol: # while loop\n",
        "  _pSol = []  # empty list\n",
        "  for i in pSol: # for all partial solution\n",
        "    _pSol += [applyMachine(j, i) for j in range(0, len(G))] # apply all machine for one time step\n",
        "\n",
        "  # remove partial solution that are dominated by those already in sol\n",
        "  for i in _pSol:\n",
        "    for j in sol:\n",
        "      if i.cost >= j.cost:\n",
        "        _pSol.remove(i)\n",
        "        break\n",
        "\n",
        "  # move complete solution to sol\n",
        "  pSol = []\n",
        "  print(\"len of _psol\", len(_pSol), \"len of pSol\", len(pSol))\n",
        "  for i in _pSol:\n",
        "    x = i.state\n",
        "    if x[2] >= tD:\n",
        "      sol.append(i)\n",
        "    else:\n",
        "      pSol.append(i) # Replace pSol with remaining from _pSol"
      ],
      "metadata": {
        "id": "zLKsmSEMd0Gs"
      },
      "execution_count": null,
      "outputs": []
    },
    {
      "cell_type": "markdown",
      "source": [
        "#New implementation"
      ],
      "metadata": {
        "id": "1of283GkebP6"
      }
    },
    {
      "cell_type": "code",
      "source": [
        "class SL:\n",
        "    def __init__(self, mode, power):\n",
        "        self.mode = mode  # Mode associated with the service level\n",
        "        self.power = power  # Power associated with the mode\n",
        "\n",
        "    def __repr__(self):\n",
        "        \"\"\"Representation of a service level.\"\"\"\n",
        "        return f\"(M: {self.mode}, P: {self.power})\""
      ],
      "metadata": {
        "id": "a7vtykc-DOaZ"
      },
      "execution_count": null,
      "outputs": []
    },
    {
      "cell_type": "code",
      "source": [
        "class Machine:\n",
        "    def __init__(self, name):\n",
        "        self.name = name  # (name or ID)\n",
        "        self.service_levels = []  # service levels (SLs)\n",
        "\n",
        "    def add_sl(self, mode, power):\n",
        "        \"\"\"Add a ServiceLevel to the machine.\"\"\"\n",
        "        sl = SL(mode, power)\n",
        "        self.service_levels.append(sl)\n",
        "\n",
        "    def get_sl(self):\n",
        "        \"\"\"Return all the service levels.\"\"\"\n",
        "        return self.service_levels\n",
        "\n",
        "    def __repr__(self):\n",
        "        \"\"\"Representation of the machine.\"\"\"\n",
        "        return f\"M(ID: {self.name}, SLs: {self.service_levels})\""
      ],
      "metadata": {
        "id": "jjwhQNIXEZom"
      },
      "execution_count": null,
      "outputs": []
    },
    {
      "cell_type": "code",
      "source": [
        "class Node:\n",
        "    def __init__(self, power, mode, work_done):\n",
        "        self.power = power  # Total power\n",
        "        self.work_done = work_done  # Work done\n",
        "        self.modes = []  # List to store tuples of (mode, power)\n",
        "        self.next = None  # Pointer to the next node\n",
        "\n",
        "    def add_sl(self, mode, power):\n",
        "        \"\"\"Add a tuple of (mode, power) to the list.\"\"\"\n",
        "        sl = SL(mode, power)\n",
        "        self.modes.append(sl)\n",
        "\n",
        "    def get_modes(self):\n",
        "        \"\"\"Return all the modes and associated powers.\"\"\"\n",
        "        return self.modes\n",
        "\n",
        "    def __repr__(self):\n",
        "        \"\"\"Represent the node details.\"\"\"\n",
        "        return f\"Node(p: {self.power}, w: {self.work_done}, Modes: {self.modes})\"\n"
      ],
      "metadata": {
        "id": "ZFR71GLgjxrN"
      },
      "execution_count": null,
      "outputs": []
    },
    {
      "cell_type": "code",
      "source": [
        "def create_machine(id, gMin, gRange, num_gears):\n",
        "    machine = Machine(name=f\"{id}\")\n",
        "    previous_power = 0\n",
        "    gears = [gMin + x * gRange for x in range(num_gears)]\n",
        "    for j in gears:\n",
        "        power = random.randint(max(30, previous_power + 1), previous_power + 30)\n",
        "        machine.add_sl(j, power)\n",
        "        previous_power = power\n",
        "    return machine"
      ],
      "metadata": {
        "id": "43NAvPJcOvcw"
      },
      "execution_count": null,
      "outputs": []
    },
    {
      "cell_type": "code",
      "source": [
        "# Script to create 3 machines and print their details\n",
        "machines = [create_machine(x, 1, 5, 5) for x in range(1, 4)]\n",
        "\n",
        "# Print details of each machine\n",
        "for machine in machines:\n",
        "    print(machine)"
      ],
      "metadata": {
        "colab": {
          "base_uri": "https://localhost:8080/"
        },
        "id": "3I3ycZ5jLhdK",
        "outputId": "6dec1466-6e6b-45e2-f42d-863c21512104"
      },
      "execution_count": null,
      "outputs": [
        {
          "output_type": "stream",
          "name": "stdout",
          "text": [
            "M(ID: 1, SLs: [(M: 1, P: 30), (M: 6, P: 33), (M: 11, P: 55), (M: 16, P: 57), (M: 21, P: 76)])\n",
            "M(ID: 2, SLs: [(M: 1, P: 30), (M: 6, P: 53), (M: 11, P: 55), (M: 16, P: 56), (M: 21, P: 67)])\n",
            "M(ID: 3, SLs: [(M: 1, P: 30), (M: 6, P: 48), (M: 11, P: 54), (M: 16, P: 80), (M: 21, P: 107)])\n"
          ]
        }
      ]
    },
    {
      "cell_type": "code",
      "source": [
        "x = [0, 0, 0]"
      ],
      "metadata": {
        "id": "iL8utiQEWTNC"
      },
      "execution_count": null,
      "outputs": []
    },
    {
      "cell_type": "code",
      "source": [
        "states = [x for j in range(0, len(machines))]"
      ],
      "metadata": {
        "id": "bygIoscsWPtH"
      },
      "execution_count": null,
      "outputs": []
    },
    {
      "cell_type": "code",
      "source": [
        "print(states)"
      ],
      "metadata": {
        "colab": {
          "base_uri": "https://localhost:8080/"
        },
        "id": "KUMdFVSnW2Xx",
        "outputId": "c0b2227a-7103-434b-f1c7-45852658a2cf"
      },
      "execution_count": null,
      "outputs": [
        {
          "output_type": "stream",
          "name": "stdout",
          "text": [
            "[[0, 0, 0], [0, 0, 0], [0, 0, 0]]\n"
          ]
        }
      ]
    },
    {
      "cell_type": "code",
      "source": [
        "class LinkedList:\n",
        "    def __init__(self):\n",
        "        self.head = None  # Head of the list (initially empty)\n",
        "        self.tail = None\n",
        "        self.len = 0;\n",
        "\n",
        "    # Method to add a new node at the end\n",
        "    def append(self, Node):\n",
        "        self.len += 1\n",
        "        # If the list is empty, make the new node the head\n",
        "        if self.head is None:\n",
        "            self.head = Node\n",
        "            self.tail = Node\n",
        "            return\n",
        "        else:\n",
        "            self.tail.next = Node\n",
        "            self.tail = Node\n",
        "\n",
        "    # Method to get size of linked list\n",
        "    def __len__(self):\n",
        "        return self.len\n",
        "\n",
        "    def copy(self):\n",
        "        new_list = LinkedList()\n",
        "        curr = self.head\n",
        "        while curr:\n",
        "            new_node = Node(power=curr.power, mode=None, work_done=curr.work_done)\n",
        "            new_node.modes = curr.modes.copy()\n",
        "            new_list.append(new_node)\n",
        "            curr = curr.next\n",
        "        return new_list\n",
        "\n",
        "    # Method to print the list\n",
        "    def __repr__(self):\n",
        "      curr = self.head\n",
        "      nodes = [] # create a list to hold the string representation of the nodes\n",
        "      while curr:\n",
        "          nodes.append(str(curr)) # add string representation of node to list\n",
        "          curr = curr.next\n",
        "      return \" -> \".join(nodes) + \" -> None\" # return the formatted string\n"
      ],
      "metadata": {
        "id": "PW9BKPWpfxVo"
      },
      "execution_count": null,
      "outputs": []
    },
    {
      "cell_type": "code",
      "source": [
        "T = 1; # total time\n",
        "P = 120; # total power at time t\n",
        "h = 0.2 # time step\n",
        "tD = 1 # target depth\n",
        "Va = 10 # input voltage"
      ],
      "metadata": {
        "id": "TfbFxB79Lh4V"
      },
      "execution_count": null,
      "outputs": []
    },
    {
      "cell_type": "code",
      "source": [
        "J = 0.1\n",
        "Kd = 0.25\n",
        "Ke = 1\n",
        "Kt = 1\n",
        "Ts = 1\n",
        "L = 2.5 * 10e-4\n",
        "R = 1\n",
        "Fd = 0.1\n",
        "Fs = 0.2"
      ],
      "metadata": {
        "id": "ZSldr6DJfeKt"
      },
      "execution_count": null,
      "outputs": []
    },
    {
      "cell_type": "code",
      "source": [
        "# machine m ranges from (0,1,2..n-1) having gear ratios\n",
        "def applyMode(m, state):\n",
        "  #state update\n",
        "  Ai = A[m]\n",
        "  Bi = B[m]\n",
        "  x_1 = Fi(Ai, Bi, state, u, h)\n",
        "  return x_1"
      ],
      "metadata": {
        "id": "thOdJd1OCC_3"
      },
      "execution_count": 85,
      "outputs": []
    },
    {
      "cell_type": "code",
      "source": [
        "lam = Node(power=0, mode=None, work_done=0)\n",
        "psi = LinkedList()\n",
        "psi.append(lam)\n",
        "print(psi)\n",
        "len(psi)\n",
        "for i, m in enumerate(machines):\n",
        "    print(\"machine : \", m.name)\n",
        "    psi_prev = psi.copy()\n",
        "    g = len(psi_prev)\n",
        "    lls = []\n",
        "    for k in m.service_levels:\n",
        "      phi_k = LinkedList()\n",
        "      curr = psi_prev.head\n",
        "      state = states[i]\n",
        "\n",
        "      print(\"state\", state)\n",
        "      while curr:\n",
        "        p = curr.power + k.power\n",
        "        if p > P :\n",
        "          curr = curr.next\n",
        "          continue\n",
        "        modes = curr.get_modes().copy()\n",
        "        wd = curr.work_done\n",
        "        # create a new node\n",
        "        lam = Node(power=p, mode=0, work_done=wd)\n",
        "        lam.modes = modes\n",
        "        lam.add_sl(k.mode, k.power)\n",
        "        phi_k.append(lam) # append to kth linkedlist\n",
        "        curr = curr.next\n",
        "      print(\"phi_k\", phi_k)\n",
        "      lls.append(phi_k) # add kth linkedlist to merge\n",
        "\n",
        "    print(\"Merging lls\")\n",
        "    _psi = LinkedList()\n",
        "    for p in lls:\n",
        "      curr = p.head\n",
        "      while curr:\n",
        "        _psi.append(curr)\n",
        "        curr = curr.next\n",
        "    print(\"new Psi\", _psi)\n",
        "    psi = _psi"
      ],
      "metadata": {
        "colab": {
          "base_uri": "https://localhost:8080/"
        },
        "id": "exZYYscQYmwt",
        "outputId": "b88d0697-c1f0-4913-b5cd-d4dd495cacf1"
      },
      "execution_count": 84,
      "outputs": [
        {
          "output_type": "stream",
          "name": "stdout",
          "text": [
            "Node(p: 0, w: 0, Modes: []) -> None\n",
            "machine :  1\n",
            "state [0, 0, 0]\n",
            "phi_k Node(p: 30, w: 0, Modes: [(M: 1, P: 30)]) -> None\n",
            "state [0, 0, 0]\n",
            "phi_k Node(p: 33, w: 0, Modes: [(M: 6, P: 33)]) -> None\n",
            "state [0, 0, 0]\n",
            "phi_k Node(p: 55, w: 0, Modes: [(M: 11, P: 55)]) -> None\n",
            "state [0, 0, 0]\n",
            "phi_k Node(p: 57, w: 0, Modes: [(M: 16, P: 57)]) -> None\n",
            "state [0, 0, 0]\n",
            "phi_k Node(p: 76, w: 0, Modes: [(M: 21, P: 76)]) -> None\n",
            "Merging lls\n",
            "new Psi Node(p: 30, w: 0, Modes: [(M: 1, P: 30)]) -> Node(p: 33, w: 0, Modes: [(M: 6, P: 33)]) -> Node(p: 55, w: 0, Modes: [(M: 11, P: 55)]) -> Node(p: 57, w: 0, Modes: [(M: 16, P: 57)]) -> Node(p: 76, w: 0, Modes: [(M: 21, P: 76)]) -> None\n",
            "machine :  2\n",
            "state [0, 0, 0]\n",
            "phi_k Node(p: 60, w: 0, Modes: [(M: 1, P: 30), (M: 1, P: 30)]) -> Node(p: 63, w: 0, Modes: [(M: 6, P: 33), (M: 1, P: 30)]) -> Node(p: 85, w: 0, Modes: [(M: 11, P: 55), (M: 1, P: 30)]) -> Node(p: 87, w: 0, Modes: [(M: 16, P: 57), (M: 1, P: 30)]) -> Node(p: 106, w: 0, Modes: [(M: 21, P: 76), (M: 1, P: 30)]) -> None\n",
            "state [0, 0, 0]\n",
            "phi_k Node(p: 83, w: 0, Modes: [(M: 1, P: 30), (M: 6, P: 53)]) -> Node(p: 86, w: 0, Modes: [(M: 6, P: 33), (M: 6, P: 53)]) -> Node(p: 108, w: 0, Modes: [(M: 11, P: 55), (M: 6, P: 53)]) -> Node(p: 110, w: 0, Modes: [(M: 16, P: 57), (M: 6, P: 53)]) -> None\n",
            "state [0, 0, 0]\n",
            "phi_k Node(p: 85, w: 0, Modes: [(M: 1, P: 30), (M: 11, P: 55)]) -> Node(p: 88, w: 0, Modes: [(M: 6, P: 33), (M: 11, P: 55)]) -> Node(p: 110, w: 0, Modes: [(M: 11, P: 55), (M: 11, P: 55)]) -> Node(p: 112, w: 0, Modes: [(M: 16, P: 57), (M: 11, P: 55)]) -> None\n",
            "state [0, 0, 0]\n",
            "phi_k Node(p: 86, w: 0, Modes: [(M: 1, P: 30), (M: 16, P: 56)]) -> Node(p: 89, w: 0, Modes: [(M: 6, P: 33), (M: 16, P: 56)]) -> Node(p: 111, w: 0, Modes: [(M: 11, P: 55), (M: 16, P: 56)]) -> Node(p: 113, w: 0, Modes: [(M: 16, P: 57), (M: 16, P: 56)]) -> None\n",
            "state [0, 0, 0]\n",
            "phi_k Node(p: 97, w: 0, Modes: [(M: 1, P: 30), (M: 21, P: 67)]) -> Node(p: 100, w: 0, Modes: [(M: 6, P: 33), (M: 21, P: 67)]) -> None\n",
            "Merging lls\n",
            "new Psi Node(p: 60, w: 0, Modes: [(M: 1, P: 30), (M: 1, P: 30)]) -> Node(p: 63, w: 0, Modes: [(M: 6, P: 33), (M: 1, P: 30)]) -> Node(p: 85, w: 0, Modes: [(M: 11, P: 55), (M: 1, P: 30)]) -> Node(p: 87, w: 0, Modes: [(M: 16, P: 57), (M: 1, P: 30)]) -> Node(p: 106, w: 0, Modes: [(M: 21, P: 76), (M: 1, P: 30)]) -> Node(p: 83, w: 0, Modes: [(M: 1, P: 30), (M: 6, P: 53)]) -> Node(p: 86, w: 0, Modes: [(M: 6, P: 33), (M: 6, P: 53)]) -> Node(p: 108, w: 0, Modes: [(M: 11, P: 55), (M: 6, P: 53)]) -> Node(p: 110, w: 0, Modes: [(M: 16, P: 57), (M: 6, P: 53)]) -> Node(p: 85, w: 0, Modes: [(M: 1, P: 30), (M: 11, P: 55)]) -> Node(p: 88, w: 0, Modes: [(M: 6, P: 33), (M: 11, P: 55)]) -> Node(p: 110, w: 0, Modes: [(M: 11, P: 55), (M: 11, P: 55)]) -> Node(p: 112, w: 0, Modes: [(M: 16, P: 57), (M: 11, P: 55)]) -> Node(p: 86, w: 0, Modes: [(M: 1, P: 30), (M: 16, P: 56)]) -> Node(p: 89, w: 0, Modes: [(M: 6, P: 33), (M: 16, P: 56)]) -> Node(p: 111, w: 0, Modes: [(M: 11, P: 55), (M: 16, P: 56)]) -> Node(p: 113, w: 0, Modes: [(M: 16, P: 57), (M: 16, P: 56)]) -> Node(p: 97, w: 0, Modes: [(M: 1, P: 30), (M: 21, P: 67)]) -> Node(p: 100, w: 0, Modes: [(M: 6, P: 33), (M: 21, P: 67)]) -> None\n",
            "machine :  3\n",
            "state [0, 0, 0]\n",
            "phi_k Node(p: 90, w: 0, Modes: [(M: 1, P: 30), (M: 1, P: 30), (M: 1, P: 30)]) -> Node(p: 93, w: 0, Modes: [(M: 6, P: 33), (M: 1, P: 30), (M: 1, P: 30)]) -> Node(p: 115, w: 0, Modes: [(M: 11, P: 55), (M: 1, P: 30), (M: 1, P: 30)]) -> Node(p: 117, w: 0, Modes: [(M: 16, P: 57), (M: 1, P: 30), (M: 1, P: 30)]) -> Node(p: 113, w: 0, Modes: [(M: 1, P: 30), (M: 6, P: 53), (M: 1, P: 30)]) -> Node(p: 116, w: 0, Modes: [(M: 6, P: 33), (M: 6, P: 53), (M: 1, P: 30)]) -> Node(p: 115, w: 0, Modes: [(M: 1, P: 30), (M: 11, P: 55), (M: 1, P: 30)]) -> Node(p: 118, w: 0, Modes: [(M: 6, P: 33), (M: 11, P: 55), (M: 1, P: 30)]) -> Node(p: 116, w: 0, Modes: [(M: 1, P: 30), (M: 16, P: 56), (M: 1, P: 30)]) -> Node(p: 119, w: 0, Modes: [(M: 6, P: 33), (M: 16, P: 56), (M: 1, P: 30)]) -> None\n",
            "state [0, 0, 0]\n",
            "phi_k Node(p: 108, w: 0, Modes: [(M: 1, P: 30), (M: 1, P: 30), (M: 6, P: 48)]) -> Node(p: 111, w: 0, Modes: [(M: 6, P: 33), (M: 1, P: 30), (M: 6, P: 48)]) -> None\n",
            "state [0, 0, 0]\n",
            "phi_k Node(p: 114, w: 0, Modes: [(M: 1, P: 30), (M: 1, P: 30), (M: 11, P: 54)]) -> Node(p: 117, w: 0, Modes: [(M: 6, P: 33), (M: 1, P: 30), (M: 11, P: 54)]) -> None\n",
            "state [0, 0, 0]\n",
            "phi_k  -> None\n",
            "state [0, 0, 0]\n",
            "phi_k  -> None\n",
            "Merging lls\n",
            "new Psi Node(p: 90, w: 0, Modes: [(M: 1, P: 30), (M: 1, P: 30), (M: 1, P: 30)]) -> Node(p: 93, w: 0, Modes: [(M: 6, P: 33), (M: 1, P: 30), (M: 1, P: 30)]) -> Node(p: 115, w: 0, Modes: [(M: 11, P: 55), (M: 1, P: 30), (M: 1, P: 30)]) -> Node(p: 117, w: 0, Modes: [(M: 16, P: 57), (M: 1, P: 30), (M: 1, P: 30)]) -> Node(p: 113, w: 0, Modes: [(M: 1, P: 30), (M: 6, P: 53), (M: 1, P: 30)]) -> Node(p: 116, w: 0, Modes: [(M: 6, P: 33), (M: 6, P: 53), (M: 1, P: 30)]) -> Node(p: 115, w: 0, Modes: [(M: 1, P: 30), (M: 11, P: 55), (M: 1, P: 30)]) -> Node(p: 118, w: 0, Modes: [(M: 6, P: 33), (M: 11, P: 55), (M: 1, P: 30)]) -> Node(p: 116, w: 0, Modes: [(M: 1, P: 30), (M: 16, P: 56), (M: 1, P: 30)]) -> Node(p: 119, w: 0, Modes: [(M: 6, P: 33), (M: 16, P: 56), (M: 1, P: 30)]) -> Node(p: 108, w: 0, Modes: [(M: 1, P: 30), (M: 1, P: 30), (M: 6, P: 48)]) -> Node(p: 111, w: 0, Modes: [(M: 6, P: 33), (M: 1, P: 30), (M: 6, P: 48)]) -> Node(p: 114, w: 0, Modes: [(M: 1, P: 30), (M: 1, P: 30), (M: 11, P: 54)]) -> Node(p: 117, w: 0, Modes: [(M: 6, P: 33), (M: 1, P: 30), (M: 11, P: 54)]) -> None\n"
          ]
        }
      ]
    },
    {
      "cell_type": "code",
      "source": [
        "# for t in range(0, int(T / h) + 1):\n",
        "#   current_time = t * h\n",
        "#   print(\"time : \", current_time)\n",
        "#   p = P # total power availbale at time t"
      ],
      "metadata": {
        "id": "I1HidJlCc-hH"
      },
      "execution_count": null,
      "outputs": []
    }
  ]
}